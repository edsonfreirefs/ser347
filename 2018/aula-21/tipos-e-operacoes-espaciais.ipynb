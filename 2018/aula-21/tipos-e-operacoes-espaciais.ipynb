{
 "cells": [
  {
   "cell_type": "markdown",
   "metadata": {},
   "source": [
    "# <span style=\"color:#336699\">SER-347 - Introdução à Programação para Sensoriamento Remoto</span>\n",
    "<hr style=\"border:2px solid #0077b9;\">\n",
    "\n",
    "# <span style=\"color:#336699\">Aula 21 - Tipos e Operações Espaciais</span>\n",
    "\n",
    "\n",
    "<img src=\"img/geometries.svg\" alt=\"Tipos Geométricos e Operações Espaciais\" width=\"150\" align=\"right\">\n",
    "\n",
    "\n",
    "- Gilberto Ribeiro de Queiroz\n",
    "- Thales Sehn Körting\n",
    "- Fabiano Morelli"
   ]
  },
  {
   "cell_type": "markdown",
   "metadata": {},
   "source": [
    "# 1. Introdução\n",
    "<hr style=\"border:1px solid #0077b9;\">\n",
    "\n",
    "A forma de modelar e representar os fenômenos geográficos no computador depende de sua percepção na forma de **entidades discretas** (objetos) ou **campos contínuos**.\n",
    "\n",
    "Quando lidamos com fenômenos onde temos um valor definido para uma ou mais variáveis de observação em toda localização possível do espaço, estamos compreendendo tal fenômeno como um *campo contínuo*. Elevação, temperatura de superfície, risco de incêndio na vegetação, e radiância da superfície são exemplos de campos contínuos.\n",
    "\n",
    "Quando percebemos o fenômeno em questão por objetos com fronteiras bem definidas e pertencentes a uma certa categoria, estamos compreendendo esse fenômeno como *entidades discretas*. Unidades de conservação estadual e federal, organização territorial, arruamento, trechos rodoviários, escolas, hospitais, linhas de transmissão de energia elétrica, são alguns exemplos de entidades discretas.\n",
    "\n",
    "Para representar os dados dessas duas formas de conceitualização do espaço geográfico, em geral, utilizamos a **representação matricial** para fenômenos modelados como campos contínuos, e a **representação vetorial** para entidades discretas.\n",
    "\n",
    "Nesta parte da aula estamos interessados na representação vetorial dos dados.\n",
    "\n",
    "As entidades codificadas usando dados vetoriais são usualmente chamadas de **feições** (ou *features*). Nesse contexto, uma feição pode ser representada computacionalmente por diversas características, as quais chamamos de **atributos da feição**. Um **atributo** possui um nome, sendo associado a um determinado **tipo de dado**, como um número, uma sequência de caracteres (texto), ou uma data.\n",
    "\n",
    "Além dos atributos alfanuméricos, uma feição é descrita por um ou mais **atributos geométricos**, associados a um tipo de dado geométrico. Um **tipo de dado geométrico** é capaz de representar elementos geométricos primitivos tais como pontos, linhas e polígonos ou coleções desses elementos.\n",
    "\n",
    "A `Figura 1` apresenta alguns tipos de objetos geográficos representados por feições com representações geométricas de pontos (hidrelétricas e termoelétricas), linhas (logradouros) e polígonos (municípios brasileiros)."
   ]
  },
  {
   "cell_type": "markdown",
   "metadata": {},
   "source": [
    "<table style=\"border: 1px solid black;\">\n",
    "    <caption>**Figura 1** - Representação de feições geográficas através de objetos geométricos.</caption>\n",
    "    <tr>\n",
    "        <td style=\"border: 1px solid black\"><img src=\"img/geom-pts.png\" alt=\"Representação Geométrica através de Pontos\" style=\"height: 200px;\" align=\"right\"></td>\n",
    "        <td style=\"border: 1px solid black\"><img src=\"img/geom-lns.png\" alt=\"Representação Geométrica através de Linhas\" style=\"height: 200px;\" align=\"right\"></td>\n",
    "        <td style=\"border: 1px solid black\"><img src=\"img/geom-pols.png\" alt=\"Representação Geométrica através de Polígonos\" style=\"height: 200px;\" align=\"right\"></td>\n",
    "    </tr>\n",
    "\n",
    "    <tr>\n",
    "        <th style=\"text-align: center; border: 1px solid black\">Hidrelétricas/Termoelétricas</th>\n",
    "        <th style=\"text-align: center; border: 1px solid black\">Logradouros</th>\n",
    "        <th style=\"text-align: center; border: 1px solid black\">Municípios</th>\n",
    "    </tr>\n",
    "</table>"
   ]
  },
  {
   "cell_type": "markdown",
   "metadata": {},
   "source": [
    "## 1.1. Tipos Geométricos\n",
    "<hr style=\"border:0.25px solid #0077b9;\">\n",
    "\n",
    "Atualmente, o modelo geométrico e as operações espaciais encontradas nos diversos sistemas geoespaciais são baseados na especificação conhecida por **OGC Simple Feature** (Herring, 2011). Essa especificação padroniza o nome e as definições dos tipos geométricos bem como a semântica das operações espaciais, em especial, os relacionamentos espaciais (ou topológicos). Iremos nos referir a essa especificação com a sigla *OGC-SFS*.\n",
    "\n",
    "A `Figura 2`, abaixo, apresenta o modelo geométrico definido na *OGC-SFS*."
   ]
  },
  {
   "cell_type": "markdown",
   "metadata": {},
   "source": [
    "<img src=\"img/ogc-sfs.png\" alt=\"Modelo Geométrico OGC Simple Features\" style=\"width: 800px;\"><br>\n",
    "<center>**Figura 2** - Diagrama de classes do modelo geométrico da *OGC Simple Feature*.<br>**Fonte:** Adaptado de Herring (2011).</center>"
   ]
  },
  {
   "cell_type": "markdown",
   "metadata": {},
   "source": [
    "Como pode ser observado, são definidas classes para representações de objetos geométricos na forma de pontos, curvas, superfícies e coleções geométricas. Além disso, todos os tipos geométricos estão associados a um **sistema de referência espacial**, que é usado para descrever o sistema de coordenadas no qual o objeto geométrico encontra-se definido.\n",
    "\n",
    "Os objetos geométricos definidos por essa hierarquia de classes pode existir no espaço $R^2$, $R^3$ ou $R^4$. Geometrias no $R^2$ possuem pontos com valores de coordenadas em $x$ e $y$. Geometrias no $R^3$ possuem pontos com valores de coordenadas em $x$, $y$ e $z$  ou $x$, $y$ e $m$. Geometrias no $R^4$ possuem pontos com valores de coordenadas em $x$, $y$, $z$ e $m$. Em geral, a coordenada $m$ representa algum tipo de medida.\n",
    "\n",
    "A `Figura 3` ilustra graficamente objetos associados aos tipos geométricos representados pelas classes do diagrama da `Figura 2`."
   ]
  },
  {
   "cell_type": "markdown",
   "metadata": {},
   "source": [
    "<table style=\"border: 1px solid black;\">\n",
    "    <caption>**Figura 3** - Exemplos dos tipos geométricos da OGC-SFS.</caption>\n",
    "\n",
    "    <tr>\n",
    "        <th style=\"text-align: center; border: 1px solid black\">(a) `Point`</th>\n",
    "        <th style=\"text-align: center; border: 1px solid black\">(b) `LineString`</th>\n",
    "        <th style=\"text-align: center; border: 1px solid black\">(c) `LinearRing`</th>\n",
    "    </tr>\n",
    "\n",
    "    <tr>\n",
    "        <td style=\"border: 1px solid black\"><img src=\"img/ogc-geom-point.png\" alt=\"Tipo Point\" style=\"width: 200px;\" align=\"center\"></td>\n",
    "        <td style=\"border: 1px solid black\"><img src=\"img/ogc-geom-linestring.png\" alt=\"Tipo LineString\" style=\"width: 200px;\" align=\"center\"></td>\n",
    "        <td style=\"border: 1px solid black\"><img src=\"img/ogc-geom-linearring.png\" alt=\"Tipo LinearRing\" style=\"width: 200px;\" align=\"center\"></td>\n",
    "    </tr>\n",
    "</table>\n",
    "\n",
    "<table style=\"border: 1px solid black;\">\n",
    "    <tr>\n",
    "        <th style=\"text-align: center; border: 1px solid black\">(d) `Polygon`</th>\n",
    "        <th style=\"text-align: center; border: 1px solid black\">(e) `Polygon` (com buracos/ilhas)</th>\n",
    "        <th style=\"text-align: center; border: 1px solid black\">(f) `MultiPoint`</th>\n",
    "    </tr>\n",
    "\n",
    "    <tr>\n",
    "        <td style=\"border: 1px solid black\"><img src=\"img/ogc-geom-polygon.png\" alt=\"Tipo Polygon\" style=\"width: 200px;\" align=\"center\"></td>\n",
    "        <td style=\"border: 1px solid black\"><img src=\"img/ogc-geom-polygon-with-hole.png\" alt=\"Tipo Polygon\" style=\"width: 200px;\" align=\"center\"></td>\n",
    "        <td style=\"border: 1px solid black\"><img src=\"img/ogc-geom-multipoint.png\" alt=\"Tipo MultiPoint\" style=\"width: 200px;\" align=\"center\"></td>\n",
    "    </tr>\n",
    "</table>\n",
    "\n",
    "<table style=\"border: 1px solid black;\">   \n",
    "    <tr>\n",
    "        <th style=\"text-align: center; border: 1px solid black\">(g) `MultiLineString`</th>\n",
    "        <th style=\"text-align: center; border: 1px solid black\">(h) `MultiPolygon`</th>\n",
    "        <th style=\"text-align: center; border: 1px solid black\">(i) `GeometryCollection`</th>\n",
    "    </tr>\n",
    "    \n",
    "    <tr>\n",
    "        <td style=\"border: 1px solid black\"><img src=\"img/ogc-geom-multilinestring.png\" alt=\"Tipo MultiLineString\" style=\"width: 200px;\" align=\"center\"></td>\n",
    "        <td style=\"border: 1px solid black\"><img src=\"img/ogc-geom-multipolygon.png\" alt=\"Tipo MultiPolygon\" style=\"width: 200px;\" align=\"center\"></td>\n",
    "        <td style=\"border: 1px solid black\"><img src=\"img/ogc-geom-geometrycollection.png\" alt=\"Tipo GeometryCollection\" style=\"width: 200px;\" align=\"center\"></td>\n",
    "    </tr>\n",
    "</table>"
   ]
  },
  {
   "cell_type": "markdown",
   "metadata": {},
   "source": [
    "O tipo `Point` (`Figuras 2` e `3a`) representa pontos no espaço $R^2$, $R^3$ ou $R^4$. Um ponto é um objeto geométrico $0$-dimensional (dimensão topológica), isto é, não possui cumprimento, largura, altura, ou volume, representando uma única localização no sistema de coordenadas. A fronteira de um ponto é o conjunto vazio. Em geral, utilizamos esse tipo de geometria para representar atributos de feições associadas a ocorrências ou eventos, como incidência de crimes ou doenças."
   ]
  },
  {
   "cell_type": "markdown",
   "metadata": {},
   "source": [
    "O tipo `Curve` (`Figuras 2`) representa a imagem contínua de uma linha. Uma curva é um objeto geométrico $1$-dimensional (dimensão topológica), isto é, possui cumprimento mas não possui largura, altura, ou volume. Em geral, utilizamos elementos geométricos das subclasses de `Curve` para representar entidades lineares tais como rodovias, linhas de transmissão de energia elétrica, dutos, arruamentos, entre outras. Uma curva pode conter coordenadas com $m$ ou $z$.\n",
    "\n",
    "A subclasse `LineString` representa linhas com interpolação linear entre pontos consecutivos (`Figuras 2` e `3b`). A fronteira de uma **linha aberta** é definida como sendo os pontos extremos dessa linha. O primeiro ponto é chamado de *ponto inicial* (*start point*) e o último ponto da sequência, *ponto final* (*end point*).\n",
    "\n",
    "A subclasse `LinearRing` representa linhas fechadas, denominadas anéis, cujo ponto inicial e final são coincidentes (`Figuras 2` e `3c`). A fronteira de um anél é definida como o conjunto vazio. Essa classe é o bloco básico para construção de polígonos (classe `Polygon`)."
   ]
  },
  {
   "cell_type": "markdown",
   "metadata": {},
   "source": [
    "O tipo `Surface` representa objetos geométricos $2$-dimensionais (dimensão topológica), isto é, objetos que possuem área (largura e altura) mas não possuem volume. Esse tipo geométrico pode ser utilizado para representar entidades discretas como áreas de cultivo, unidades de conservação florestal, divisões territoriais, entre outras.\n",
    "\n",
    "A subclasse `Polygon` representa polígonos que podem ser formados por um anel externo e zero ou mais anéis internos (buracos ou ilhas). A `Figura 3d` representa um polígono formado apenas por um anel, que é o anel externo. O polígono mostrado na `Figura 3e` representa um polígono formado por um anel externo e um anel interno. A fronteira de um polígono é definida como sendo o conjunto de todos os anéis que o delimitam."
   ]
  },
  {
   "cell_type": "markdown",
   "metadata": {},
   "source": [
    "O diagrama da `Figura 2` ainda contém classes que representam coleções de geometrias. As classes `MultiPoint`, `MultiLineString` e `MultiPolygon` representam, respectivamente, coleções homogêneas de pontos (`Figura 3f`), linhas (`Figura 3g`) e polígonos (`Figura 3h`). A classe `GeometryCollection` representa coleções geométricas formadas por qualquer combinação de outros elementos geométricos, inclusive das coleções homogêneas. A coleção heterogênea mostrada na `Figura 3i` é composta de um polígono, uma linha e um ponto.\n",
    "\n",
    "Em geral, o tipo `GeometryCollection` é introduzido nos sistemas para acomodar o resultado de operações espaciais complexas sobre os tipos de geometria elementares. Por exemplo, o resultado da operação de interseção entre dois polígonos pode resultar em um conjunto de pontos, linhas e polígonos, de forma que é necessário um contêiner especial para acomodar esse resultado."
   ]
  },
  {
   "cell_type": "markdown",
   "metadata": {},
   "source": [
    "O documento da OGC-SFS define também o conjunto de operações sobre os tipos geométricos do diagrama da `Figura 2`. A seção a seguir irá detalhar as operações que possibilitam determinar os relacionamentos espaciais entre objetos espaciais. Na seção 4 iremos discutir em detalhes outras operações, como as de análise espacial (conjunto e *buffer*) e métricas."
   ]
  },
  {
   "cell_type": "markdown",
   "metadata": {},
   "source": [
    "## 1.2. Relacionamentos Espaciais\n",
    "<hr style=\"border:0.25px solid #0077b9;\">\n",
    "\n",
    "Entre as operações definidas na OGC-SFS, existe um conjunto que merece uma atenção especial: os **operadores topológicos**. Esses operadores são extensivamente utilizados na construção de consultas espaciais envolvendo o relacionamento espacial entre objetos geográficos.\n",
    "\n",
    "### 1.2.1. Matriz de 9-intersecções Estendida Dimensionalmente\n",
    "\n",
    "Os relacionamentos espaciais são definidos com base no paradigma da **Matriz de 9-Intersecções Estendida Dimensionalmente** (`DE-9IM`) proposto por Clementini et al. (1993). A abordagem básica desse método consiste em comparar dois objetos geométricos através de testes com a intersecção entre seus interiores, fronteiras e exteriores. Desta forma, podemos construir uma matrix $3 \\times 3$ como a mostrada abaixo:"
   ]
  },
  {
   "cell_type": "markdown",
   "metadata": {},
   "source": [
    "<table width=\"80%\">\n",
    "    <tr>\n",
    "        <th style=\"text-align: center;\"></th>\n",
    "        <th style=\"text-align: center;\">$Interior(B)$</th>\n",
    "        <th style=\"text-align: center;\">$Fronteira(B)$</th>\n",
    "        <th style=\"text-align: center;\">$Exterior(B)$</th>\n",
    "    </tr>\n",
    "    \n",
    "    <tr>\n",
    "        <th style=\"text-align: right;\">$Interior(A)$</th>\n",
    "        <td style=\"text-align: center; border: 1px solid black\">$dim(I(A) \\cap I(B))$</td>\n",
    "        <td style=\"text-align: center; border: 1px solid black\">$dim(I(A) \\cap F(B))$</td>\n",
    "        <td style=\"text-align: center; border: 1px solid black\">$dim(I(A) \\cap E(B))$</td>\n",
    "    </tr>\n",
    "    \n",
    "    <tr>\n",
    "        <th style=\"text-align: right;\">$Fonteira(A)$</th>\n",
    "        <td style=\"text-align: center; border: 1px solid black\">$dim(F(A) \\cap I(B))$</td>\n",
    "        <td style=\"text-align: center; border: 1px solid black\">$dim(F(A) \\cap F(B))$</td>\n",
    "        <td style=\"text-align: center; border: 1px solid black\">$dim(F(A) \\cap E(B))$</td>\n",
    "    </tr>\n",
    "    \n",
    "    <tr>\n",
    "        <th style=\"text-align: right;\">$Exterior(A)$</th>\n",
    "        <td style=\"text-align: center; border: 1px solid black\">$dim(E(A) \\cap I(B))$</td>\n",
    "        <td style=\"text-align: center; border: 1px solid black\">$dim(E(A) \\cap F(B))$</td>\n",
    "        <td style=\"text-align: center; border: 1px solid black\">$dim(E(A) \\cap E(B))$</td>\n",
    "    </tr>\n",
    "</table>"
   ]
  },
  {
   "cell_type": "markdown",
   "metadata": {},
   "source": [
    "Na matriz acima, $I(A)$, $F(A)$ e $E(A)$ refere-se, respectivamente, ao interior, fronteira  e exterior do objeto $A$. De maneira análoga, $I(B)$, $F(B)$ e $E(B)$ refere-se, respectivamente, ao interior, fronteira  e exterior do objeto $B$.\n",
    "\n",
    "A dimensionalidade máxima dos objetos resultantes da intersecção dos componentes avaliados, $dim(x)$, pode ser:\n",
    "- **$\\emptyset$:** Caso os componentes não tenham intersecção. Adotaremos o valor $-1$ para este caso.<br><br>\n",
    "- **$0$:** Se a intersecção dos componentes resulta em um ponto.<br><br>\n",
    "- **$1$:** Se a intersecção dos componentes resulta em alguma curva.<br><br>\n",
    "- **$2$:** Se a intersecção dos componentes resulta em alguma superfície. Adotaremos também o termo **Área** ou **Região** como sinônimos."
   ]
  },
  {
   "cell_type": "markdown",
   "metadata": {},
   "source": [
    "A `Figura 4` ilustra cada um dos componentes dos tipos de objetos geométricos definidos na OGC-SFS. \n",
    "\n",
    "<table style=\"border: 1px solid black;\">\n",
    "    <caption>**Figura 4** - Interior, fronteira e exterior dos diversos tipos geométricos.</caption>\n",
    "    <tr>\n",
    "        <th style=\"text-align: center; border: 1px solid black\">(a) I e E Ponto</th>\n",
    "        <th style=\"text-align: center; border: 1px solid black\">(b) I e E Coleção Pontos</th>\n",
    "        <th style=\"text-align: center; border: 1px solid black\">(c) I, F e E Curva Aberta</th>\n",
    "    </tr>\n",
    "\n",
    "    <tr>\n",
    "        <td style=\"border: 1px solid black\"><img src=\"img/ogc-geom-topo-point.png\" alt=\"Interior e Exterior Ponto\" style=\"width: 200px;\" align=\"center\"></td>\n",
    "        <td style=\"border: 1px solid black\"><img src=\"img/ogc-geom-topo-multipoint.png\" alt=\"Interior e Exterior de uma Coleção Pontos\" style=\"width: 200px;\" align=\"center\"></td>\n",
    "        <td style=\"border: 1px solid black\"><img src=\"img/ogc-geom-topo-line.png\" alt=\"Int./Front./Ext. Curva Aberta\" style=\"width: 200px;\" align=\"center\"></td>\n",
    "    </tr>\n",
    "</table>\n",
    "\n",
    "<table style=\"border: 1px solid black;\">\n",
    "    <tr>\n",
    "        <th style=\"text-align: center; border: 1px solid black\">(d) I e E Curva Fechada</th>\n",
    "        <th style=\"text-align: center; border: 1px solid black\">(e) I, F e E Coleção Curvas Abertas</th>\n",
    "        <th style=\"text-align: center; border: 1px solid black\">(f) I e E Coleção Curvas Abertas</th>\n",
    "    </tr>\n",
    "\n",
    "    <tr>\n",
    "        <td style=\"border: 1px solid black\"><img src=\"img/ogc-geom-topo-ring.png\" alt=\"Interior e Exterior Curva Fechada\" style=\"width: 200px;\" align=\"center\"></td>\n",
    "        <td style=\"border: 1px solid black\"><img src=\"img/ogc-geom-topo-multiline.png\" alt=\"Interior, Fronteira e Exterior Coleção de Curvas Abertas\" style=\"width: 200px;\" align=\"center\"></td>\n",
    "        <td style=\"border: 1px solid black\"><img src=\"img/ogc-geom-topo-multiline2.png\" alt=\"Interior, Fronteira e Exterior Coleção de Curvas Abertas\" style=\"width: 200px;\" align=\"center\"></td>\n",
    "    </tr>\n",
    "</table>\n",
    "\n",
    "<table style=\"border: 1px solid black;\">\n",
    "    <tr>\n",
    "        <th style=\"text-align: center; border: 1px solid black\">(g) I, F e E Polígono</th>\n",
    "        <th style=\"text-align: center; border: 1px solid black\">(h) I, F e E Coleção Polígonos</th>\n",
    "        <th style=\"text-align: center; border: 1px solid black\">(i) I, F e E Coleção Geom.</th>\n",
    "    </tr>\n",
    "\n",
    "    <tr>\n",
    "        <td style=\"border: 1px solid black\"><img src=\"img/ogc-geom-topo-poly.png\" alt=\"Interior, Fronteira e Exterior Polígono\" style=\"width: 200px;\" align=\"center\"></td>\n",
    "        <td style=\"border: 1px solid black\"><img src=\"img/ogc-geom-topo-multipoly.png\" alt=\"Interior, Fronteira e Exterior Coleção de Polígonos\" style=\"width: 200px;\" align=\"center\"></td>\n",
    "        <td style=\"border: 1px solid black\"><img src=\"img/ogc-geom-topo-geomcoll.png\" alt=\"Interior, Fronteira e Exterior Coleção de Geometrias\" style=\"width: 200px;\" align=\"center\"></td>\n",
    "    </tr>\n",
    "</table>"
   ]
  },
  {
   "cell_type": "markdown",
   "metadata": {},
   "source": [
    "A fronteira de um objeto geométrico é formada por um conjunto de objetos geométricos de uma dimensão abaixo do objeto em questão. \n",
    "\n",
    "Assim, a fronteira de um objeto do tipo ponto (`Point`) é o conjunto vazio, uma vez que um ponto é um objeto `0`-dimensional (dimensão topológica). Observe na `Figura 4a` que no caso de um ponto, temos apenas a definição de seu interior, destacado em azul escuro, e seu exterior, representado pela região em vermelho. Portanto, o interior de um ponto é um objeto `0`-dimensional e seu exterior, um objeto `2`-dimensional.\n",
    "\n",
    "Um objeto geométrico do tipo `MultiPoint`, que também é `0`-dimensional, tem sua fronteira definida como o conjunto vazio. O interior é formado pelos próprios pontos da coleção, destacados em azul escuro na `Figura 4b`, e o exterior é região destacada em vermelho nessa figura.\n",
    "\n",
    "A fronteira de uma curva aberta (`Curve`) consiste nos pontos inicial e final dessa curva. A `Figura 4c` mostra uma exemplo de curva aberta, onde os pontos destacados em verde formam a fronteira dessa curva. Portanto, a fronteira de uma curva aberta é um conjunto de objetos geométricos `0`-dimensional. O interior de uma curva aberta é formado pelos infinitos pontos de sua imagem, exceto os pontos da fronteira. Na `Figura 4c`, a linha em azul escuro corresponde ao interior da curva, que é um objeto geométrico `1`-dimensional. O exterior da curva é representado pela região em vermelho que não contém os pontos da fronteira e do interior da curva.\n",
    "\n",
    "A fronteira de uma curva fechada (`Curve`) é o conjunto vazio. A `Figura 4d` mostra um exemplo de curva fechada. Nessa figura, podemos observar que o interior é formado por todos os pontos da curva, incluindo os pontos inicial e final, formando um objeto geométrico `1`-dimensional. O exterior de uma curva fechada é uma região, um objeto `2`-dimensional, destacado em vermelho nessa figura.\n",
    "\n",
    "A fronteira de uma coleção de curvas (`MultiCurve`) consiste nos pontos na fronteira de um número ímpar de elementos da curva. A `Figura 4e` mostra um exemplo de coleção de curvas abertas. Repare que os pontos destacados em verde formam a fronteira dessa curva, enquanto os pontos sobre as imagens das linhas, destacados em azul escuro, forma seus interiores e seu exterior é destacado pela região em vermelho. A `Figura 4f` ilustra a regra de que os pontos da fronteira devem pertencer a um número ímpar de elementos da curva.\n",
    "\n",
    "Uma coleção de curvas (`MultiCurve`) é dita fechada se todos os seus elementos são fechados, consequentemente, a fronteira de uma coleção de curvas fechadas é o conjunto vazio. \n",
    "\n",
    "A fronteira de um polígono (`Polygon`) consiste no seu conjunto de anéis (`LinearRing`). A `Figura 4g` ilustra esse caso. Repare que o exterior de um polígono com buraco é desconectado.\n",
    "\n",
    "A fronteira de uma coleção de polígonos (`MultiPolygon`) consiste no conjunto de anéis (`LinearRing`) de seus polígonos (`Polygon`) (`Figura 4h`).\n",
    "\n",
    "A fronteira de um conjunto de objetos geométricos heterogêneos (`GeometryCollection`) cujo os interiores dos seus elementos são disjuntos, consiste nos objetos geométricos das fronteiras desses elementos obedecendo à regra de que os pontos devem pertencer a um número ímpar de elementos (`Figura 4i`)."
   ]
  },
  {
   "cell_type": "markdown",
   "metadata": {},
   "source": [
    "Vamos considerar os objetos geométricos apresentados na `Figura 5`. Podemos estabelecer o seguinte:\n",
    "- $I(A)$: área mostrada em azul claro.\n",
    "- $F(A)$: formada por um único anel (externo), em azul escuro.\n",
    "- $E(A)$: é definido como toda a região do espaço que não compreenda a fronteira e o interior de $A$.\n",
    "\n",
    "De maneira análoga:\n",
    "- $I(B)$: área mostrada em laranja claro.\n",
    "- $F(B)$: formada por um único anel (externo), em laranja escuro.\n",
    "- $E(B)$: é definido como toda a região do espaço que não compreenda a fronteira e o interior de $B$."
   ]
  },
  {
   "cell_type": "markdown",
   "metadata": {},
   "source": [
    "<img src=\"img/ogc-de9im.png\" alt=\"Relacionamento Espacial entre objetos A e B\" style=\"width: 200px;\" align=\"center\">\n",
    "<center>**Figura 5** - Configuração espacial de dois objetos geométricos $A$ e $B$.</center>"
   ]
  },
  {
   "cell_type": "markdown",
   "metadata": {},
   "source": [
    "O relacionamento espacial definido por $A$ e $B$ segundo a matriz de intersecções é a seguinte:\n",
    "<table width=\"70%\">\n",
    "    <tr>\n",
    "        <th style=\"text-align: center;\"></th>\n",
    "        <th style=\"text-align: center;\">$Interior(B)$</th>\n",
    "        <th style=\"text-align: center;\">$Fronteira(B)$</th>\n",
    "        <th style=\"text-align: center;\">$Exterior(B)$</th>\n",
    "    </tr>\n",
    "    \n",
    "    <tr>\n",
    "        <th style=\"text-align: center;\">$Interior(A)$</th>\n",
    "        <th style=\"text-align: center; border: 1px solid black\">$2$</th>\n",
    "        <th style=\"text-align: center; border: 1px solid black\">$1$</th>\n",
    "        <th style=\"text-align: center; border: 1px solid black\">$2$</th>\n",
    "    </tr>\n",
    "    \n",
    "    <tr>\n",
    "        <th style=\"text-align: center;\">$Fonteira(A)$</th>\n",
    "        <td style=\"text-align: center; border: 1px solid black\">$1$</td>\n",
    "        <td style=\"text-align: center; border: 1px solid black\">$0$</td>\n",
    "        <td style=\"text-align: center; border: 1px solid black\">$1$</td>\n",
    "    </tr>\n",
    "    \n",
    "    <tr>\n",
    "        <td style=\"text-align: center;\">$Exterior(A)$</th>\n",
    "        <td style=\"text-align: center; border: 1px solid black\">$2$</td>\n",
    "        <td style=\"text-align: center; border: 1px solid black\">$1$</td>\n",
    "        <td style=\"text-align: center; border: 1px solid black\">$2$</td>\n",
    "    </tr>\n",
    "</table>"
   ]
  },
  {
   "cell_type": "markdown",
   "metadata": {},
   "source": [
    "A matriz acima foi definida considerando:\n",
    "- Os interiores de $A$ e $B$ são regiões, isto é, objetos $2$-dimensional. A intersecção desses dois componentes forma uma nova região, a área em vermelho na `Figura 6a`, que também é um objeto $2$-dimensional. Logo, a $dim(I(A) \\cap I(B)) = 2$.<br><br>\n",
    "\n",
    "- A fronteira de $B$ é formada por um anel (laranja), um objeto $1$-dimensional. A intersecção entre $I(A)$ e a $F(B)$ forma uma linha, destacada em vermelho na `Figura 6b`, que é um objeto $1$-dimensional.  Logo, a $dim(I(A) \\cap F(B)) = 1$.<br><br>\n",
    "\n",
    "- O exterior de $B$ é uma região. A intersecção do $I(A)$ e o $E(B)$ forma a área destacada em vermelho da `Figura 6c`. Logo, a $dim(I(A) \\cap E(B)) = 2$.<br><br>\n",
    "\n",
    "- A fronteira de $A$ é formada por um anel (azul). A intersecção entre $F(A)$ e o $I(B)$ forma uma linha, destacada em vermelho na `Figura 6d`, que é um objeto $1$-dimensional.  Logo, a $dim(F(A) \\cap I(B)) = 1$.<br><br>\n",
    "\n",
    "- A intersecção entre as fronteiras de $A$ e $B$ são os pontos mostrados em vermelho na `Figura 6e`. Como um ponto é um objeto $0$-dimensional, a $dim(F(A) \\cap F(B)) = 0$.<br><br>\n",
    "\n",
    "- A intersecção entre a fronteira de $A$ e o exterior de $B$ forma a linha mostrada na `Figura 6f`. Logo, a $dim(F(A) \\cap E(B)) = 1$.<br><br>\n",
    "\n",
    "- A intersecção entre exterior de $A$ e interior de $B$ forma uma área (`Figura 6g`). Logo, a $dim(E(A) \\cap I(B)) = 2$.<br><br>\n",
    "\n",
    "- A intersecção entre exterior de $A$ e fronteira de $B$ forma a linha mostrada na `Figura 6h`. Logo, a $dim(E(A) \\cap F(B)) = 1$.<br><br>\n",
    "\n",
    "- A interseção entre os exteriores de $A$ e $B$ formam uma área (`Figura 6i`). Logo, a $dim(E(A) \\cap E(B)) = 2$."
   ]
  },
  {
   "cell_type": "markdown",
   "metadata": {},
   "source": [
    "<table style=\"border: 1px solid black;\">\n",
    "    <caption>**Figura 6** - Intersecção entre os componentes dos objetos $A$ e $B$.</caption>\n",
    "    <tr>\n",
    "        <th style=\"text-align: center; border: 1px solid black\">(a) $I(A) \\cap I(B)$</th>\n",
    "        <th style=\"text-align: center; border: 1px solid black\">(b) $I(A) \\cap F(B)$</th>\n",
    "        <th style=\"text-align: center; border: 1px solid black\">(c) $I(A) \\cap E(B)$</th>\n",
    "    </tr>\n",
    "\n",
    "    <tr>\n",
    "        <td style=\"border: 1px solid black\"><img src=\"img/ogc-de9im-ia-ib.png\" alt=\"Intersecção(I(A), I(B))\" style=\"width: 150px;\" align=\"center\"></td>\n",
    "        <td style=\"border: 1px solid black\"><img src=\"img/ogc-de9im-ia-fb.png\" alt=\"Intersecção(I(A), F(B))\" style=\"width: 150px;\" align=\"center\"></td>\n",
    "        <td style=\"border: 1px solid black\"><img src=\"img/ogc-de9im-ia-eb.png\" alt=\"Intersecção(I(A), E(B))\" style=\"width: 150px;\" align=\"center\"></td>\n",
    "    </tr>\n",
    "</table>\n",
    "\n",
    "<table style=\"border: 1px solid black;\">\n",
    "    <tr>\n",
    "        <th style=\"text-align: center; border: 1px solid black\">(d) $F(A) \\cap I(B)$</th>\n",
    "        <th style=\"text-align: center; border: 1px solid black\">(e) $F(A) \\cap F(B)$</th>\n",
    "        <th style=\"text-align: center; border: 1px solid black\">(f) $F(A) \\cap E(B)$</th>\n",
    "    </tr>\n",
    "\n",
    "    <tr>\n",
    "        <td style=\"border: 1px solid black\"><img src=\"img/ogc-de9im-fa-ib.png\" alt=\"Intersecção(F(A), I(B))\" style=\"width: 150px;\" align=\"center\"></td>\n",
    "        <td style=\"border: 1px solid black\"><img src=\"img/ogc-de9im-fa-fb.png\" alt=\"Intersecção(F(A), F(B))\" style=\"width: 150px;\" align=\"center\"></td>\n",
    "        <td style=\"border: 1px solid black\"><img src=\"img/ogc-de9im-fa-eb.png\" alt=\"Intersecção(F(A), E(B))\" style=\"width: 150px;\" align=\"center\"></td>\n",
    "    </tr>\n",
    "</table>\n",
    "\n",
    "<table style=\"border: 1px solid black;\">\n",
    "    <tr>\n",
    "        <th style=\"text-align: center; border: 1px solid black\">(g) $E(A) \\cap I(B)$</th>\n",
    "        <th style=\"text-align: center; border: 1px solid black\">(h) $E(A) \\cap F(B)$</th>\n",
    "        <th style=\"text-align: center; border: 1px solid black\">(i) $E(A) \\cap E(B)$</th>\n",
    "    </tr>\n",
    "\n",
    "    <tr>\n",
    "        <td style=\"border: 1px solid black\"><img src=\"img/ogc-de9im-ea-ib.png\" alt=\"Intersecção(E(A), I(B))\" style=\"width: 150px;\" align=\"center\"></td>\n",
    "        <td style=\"border: 1px solid black\"><img src=\"img/ogc-de9im-ea-fb.png\" alt=\"Intersecção(E(A), F(B))\" style=\"width: 150px;\" align=\"center\"></td>\n",
    "        <td style=\"border: 1px solid black\"><img src=\"img/ogc-de9im-ea-eb.png\" alt=\"Intersecção(E(A), E(B))\" style=\"width: 150px;\" align=\"center\"></td>\n",
    "    </tr>\n",
    "</table>"
   ]
  },
  {
   "cell_type": "markdown",
   "metadata": {},
   "source": [
    "### 1.2.2. Operador `Relate`\n",
    "\n",
    "Em geral, os ambientes computacionais que dão suporte a OGC-SFS, introduzem uma função chamada `Relate` que permite determinar a matriz de intersecções ou testar se dois objetos satisfazem um determinado padrão dessa matriz. Assim, tanto em Python quanto em C++, ou Java, ou em SQL, é possível testar o relacionamento espacial entre dois objetos.\n",
    "\n",
    "O exemplo abaixo mostra como seria o uso dessa função para saber o relacionamento espacial entre dois polígonos hipotéticos:\n",
    "```python\n",
    "A = Polygon(...)\n",
    "B = Polygon(...)\n",
    "\n",
    "M = Relate(A, B)\n",
    "```\n",
    "\n",
    "Nesse caso, `M` é a matriz resultante do relacionamento espacial entre `A` e `B`. Se `A` e `B` forem os polígonos mostrados na `Figura 5`, teríamos `M` codificado como a seguinte `string`: `\"212101212\"`.\n",
    "\n",
    "O próximo exemplo mostra como seria a utlização da função `Relate` para saber se dois objetos `A` e `B` satisfazem um padrão específico da matriz de intersecções:\n",
    "\n",
    "```python\n",
    "A = Polygon(...)\n",
    "B = Polygon(...)\n",
    "\n",
    "M = \"212101212\"\n",
    "\n",
    "resultado = Relate(A, B, M)\n",
    "```\n",
    "\n",
    "Nesse caso, `M` é a matriz com o padrão que desejamos verificar se os objetos `A` e `B` satisfazem. Se `A` e `B` forem os polígonos mostrados na `Figura 5`, essa função retorna o valor booleano `True`."
   ]
  },
  {
   "cell_type": "markdown",
   "metadata": {},
   "source": [
    "### 1.2.3. Relacionamentos Espaciais Nomeados\n",
    "\n",
    "Para facilitar a construção de predicados topológicos nas consultas espaciais existe um conjunto de 8 operadores com nomes bem definidos que são baseados na sobrecarga de alguns padrões da matriz de intersecções. Os operadores nomeados são: Equals, Disjoint, Intersects, Touches, Crosses, Within, Contains, e Overlaps. Esses operadores comparam pares de geometrias e são definidos utilizando os seguintes valores para as células da matriz de intersecções:\n",
    "- `T`: indica que $dim(x) \\in \\{0, 1, 2\\}$, ou seja, $x \\neq \\emptyset$. Em outras palavras, o resultado da intersecção é um objeto $x$ que pode ser qualquer elemento geométrico (ponto, curva ou superfície).<br><br>\n",
    "\n",
    "- `F`: indica que $dim(x) = \\emptyset$, ou seja, $x = \\emptyset$. Em outras palavras, o resultado da intersecção é um conjunto vazio. Adotaremos que $dim(x) = \\emptyset \\implies dim(x) = -1$, de maneira que usaremos $-1$ quando necessário para indicar que a intersecção é vazia.<br><br>\n",
    "\n",
    "- `*`: indica que $dim(x) \\in \\{-1, 0, 1, 2\\}$, ou seja, não importa se há ou não intersecção.<br><br>\n",
    "\n",
    "- `0`:  indica que $dim(x) = 0$, ou seja, que a dimensão máxima do elemento geométrico resultante da intersecção é zero, isto é, um ponto.<br><br>\n",
    "\n",
    "- `1`:  indica que $dim(x) = 1$, ou seja, que a dimensão máxima do elemento geométrico resultante da intersecção é uma curva.<br><br>\n",
    "\n",
    "- `2`:  indica que $dim(x) = 2$, ou seja, que a dimensão máxima do elemento geométrico resultante da intersecção é uma superfície (ou área).\n",
    "\n",
    "Além disso, em alguns casos diferenciamos os padrões pelos tipos de objetos testados. Usamos a seguinte nomenclatura para os tipos de objetos:\n",
    "- Pontuais ou `P`: pontos e coleções homogêneas de pontos.<br><br>\n",
    "- Curvas ou `L`: linhas, anéis, ou coleções homogêneas de linhas.<br><br>\n",
    "- Superfícies ou `A`: polígonos ou coleções homogêneas de polígonos."
   ]
  },
  {
   "cell_type": "markdown",
   "metadata": {},
   "source": [
    "#### $Equals(Geometry, Geometry) \\rightarrow bool$\n",
    "<hr style=\"border:0.25px solid #EE0000;\">\n",
    "\n",
    "Retorna verdadeiro (`True`) se as duas geometrias são espacialmente iguais. Neste caso, a matriz de intersecção para as duas geometrias deve satisfazer o seguinte padrão:\n",
    "\n",
    "<table width=\"70%\">\n",
    "    <tr>\n",
    "        <th style=\"text-align: center;\"></th>\n",
    "        <th style=\"text-align: center;\">$Interior(B)$</th>\n",
    "        <th style=\"text-align: center;\">$Fronteira(B)$</th>\n",
    "        <th style=\"text-align: center;\">$Exterior(B)$</th>\n",
    "    </tr>\n",
    "    \n",
    "    <tr>\n",
    "        <th style=\"text-align: center;\">$Interior(A)$</th>\n",
    "        <td style=\"text-align: center; border: 1px solid black\">$T$</td>\n",
    "        <td style=\"text-align: center; border: 1px solid black\">$F$</td>\n",
    "        <td style=\"text-align: center; border: 1px solid black\">$F$</td>\n",
    "    </tr>\n",
    "    \n",
    "    <tr>\n",
    "        <th style=\"text-align: center;\">$Fonteira(A)$</th>\n",
    "        <td style=\"text-align: center; border: 1px solid black\">$F$</td>\n",
    "        <td style=\"text-align: center; border: 1px solid black\">$T$</td>\n",
    "        <td style=\"text-align: center; border: 1px solid black\">$F$</td>\n",
    "    </tr>\n",
    "    \n",
    "    <tr>\n",
    "        <td style=\"text-align: center;\">$Exterior(A)$</th>\n",
    "        <td style=\"text-align: center; border: 1px solid black\">$F$</td>\n",
    "        <td style=\"text-align: center; border: 1px solid black\">$F$</td>\n",
    "        <td style=\"text-align: center; border: 1px solid black\">$T$</td>\n",
    "    </tr>\n",
    "</table>\n",
    "\n",
    "Pela matriz acima, o relacionamento `Equals` garante que os interiores das duas geometrias tenham intesecção e que os interiores e fronteiras de um objeto não tenha intersecção com o exterior do outro.\n",
    "\n",
    "A `Figura 7` apresenta alguns pares de objetos que satisfazem o relacionamento espacial `Equals`, de acordo com o padrão mostrado acima:\n",
    "\n",
    "<table style=\"border: 1px solid black;\">\n",
    "    <caption>**Figura 7** - $A$ e $B$ são geometrias espacialmente iguais.</caption>\n",
    "    <tr>\n",
    "        <th style=\"text-align: center; border: 1px solid black\">(a)</th>\n",
    "        <th style=\"text-align: center; border: 1px solid black\">(b)</th>\n",
    "        <th style=\"text-align: center; border: 1px solid black\">(c)</th>\n",
    "    </tr>\n",
    "\n",
    "    <tr>\n",
    "        <td style=\"border: 1px solid black\"><img src=\"img/op-equals-1.png\" alt=\"Dois pontos espacialmente iguais\" style=\"width: 150px;\" align=\"center\"></td>\n",
    "        <td style=\"border: 1px solid black\"><img src=\"img/op-equals-2.png\" alt=\"Dois polígonos espacialmente iguais\" style=\"width: 150px;\" align=\"center\"></td>\n",
    "        <td style=\"border: 1px solid black\"><img src=\"img/op-equals-3.png\" alt=\"Duas linhas espacialmente iguais\" style=\"width: 150px;\" align=\"center\"></td>\n",
    "    </tr>\n",
    "</table>\n",
    "\n",
    "**Observação:** No caso dos pares de geometrias serem curvas/curvas ou superfícies/superfícies, mesmo que número de pontos desses objetos sejam diferentes, o relacionamento `Equals` pode ser verdadeiro."
   ]
  },
  {
   "cell_type": "markdown",
   "metadata": {},
   "source": [
    "#### $Disjoint(Geometry, Geometry) \\rightarrow bool$\n",
    "<hr style=\"border:0.25px solid #EE0000;\">\n",
    "\n",
    "Retorna verdadeiro (`True`) se as duas geometrias não possuem qualquer tipo de interação espacial, isto é, se os interiores e fronteiras não possuem qualquer intersecção, exceto com os exteriores. Neste caso, a matriz de intersecção para as duas geometrias deve satisfazer o seguinte padrão:\n",
    "\n",
    "<table width=\"70%\">\n",
    "    <tr>\n",
    "        <th style=\"text-align: center;\"></th>\n",
    "        <th style=\"text-align: center;\">$Interior(B)$</th>\n",
    "        <th style=\"text-align: center;\">$Fronteira(B)$</th>\n",
    "        <th style=\"text-align: center;\">$Exterior(B)$</th>\n",
    "    </tr>\n",
    "    \n",
    "    <tr>\n",
    "        <th style=\"text-align: center;\">$Interior(A)$</th>\n",
    "        <td style=\"text-align: center; border: 1px solid black\">$F$</td>\n",
    "        <td style=\"text-align: center; border: 1px solid black\">$F$</td>\n",
    "        <td style=\"text-align: center; border: 1px solid black\">$*$</td>\n",
    "    </tr>\n",
    "    \n",
    "    <tr>\n",
    "        <th style=\"text-align: center;\">$Fonteira(A)$</th>\n",
    "        <td style=\"text-align: center; border: 1px solid black\">$F$</td>\n",
    "        <td style=\"text-align: center; border: 1px solid black\">$F$</td>\n",
    "        <td style=\"text-align: center; border: 1px solid black\">$*$</td>\n",
    "    </tr>\n",
    "    \n",
    "    <tr>\n",
    "        <td style=\"text-align: center;\">$Exterior(A)$</th>\n",
    "        <td style=\"text-align: center; border: 1px solid black\">$*$</td>\n",
    "        <td style=\"text-align: center; border: 1px solid black\">$*$</td>\n",
    "        <td style=\"text-align: center; border: 1px solid black\">$*$</td>\n",
    "    </tr>\n",
    "</table>\n",
    "\n",
    "A matriz acima define que no relacionamento `Disjoint` nem a fronteira, nem o interior de um objeto possui intersecção com a fronteira ou interior do outro objeto.\n",
    "\n",
    "A `Figura 8` apresenta alguns pares de objetos que satisfazem o relacionamento espacial `Disjoint`, de acordo com o padrão mostrado acima:\n",
    "\n",
    "<table style=\"border: 1px solid black;\">\n",
    "    <caption>**Figura 8** - $A$ e $B$ são geometrias espacialmente disjuntas.</caption>\n",
    "    <tr>\n",
    "        <th style=\"text-align: center; border: 1px solid black\">(a)</th>\n",
    "        <th style=\"text-align: center; border: 1px solid black\">(b)</th>\n",
    "        <th style=\"text-align: center; border: 1px solid black\">(c)</th>\n",
    "    </tr>\n",
    "\n",
    "    <tr>\n",
    "        <td style=\"border: 1px solid black\"><img src=\"img/op-disjoint-1.png\" alt=\"Dois polígonos disjuntos\" style=\"width: 150px;\" align=\"center\"></td>\n",
    "        <td style=\"border: 1px solid black\"><img src=\"img/op-disjoint-2.png\" alt=\"Polígono e Ponto disjuntos\" style=\"width: 150px;\" align=\"center\"></td>\n",
    "        <td style=\"border: 1px solid black\"><img src=\"img/op-disjoint-3.png\" alt=\"Polígono e Linha disjuntos\" style=\"width: 150px;\" align=\"center\"></td>\n",
    "    </tr>\n",
    "</table>"
   ]
  },
  {
   "cell_type": "markdown",
   "metadata": {},
   "source": [
    "#### $Touches(Geometry, Geometry) \\rightarrow Bool$\n",
    "<hr style=\"border:0.25px solid #EE0000;\">\n",
    "\n",
    "Retorna verdadeiro (`True`) se as duas geometrias se tocam. Este relacionamento espacial é definido para os casos onde os pares de objetos geométricos correspondem a A/A, L/L, L/A, P/A e P/L. Este relacionamento não se aplica no caso dos objetos serem do tipo P/P. \n",
    "\n",
    "Se os pares de objetos satisfizerem um dos três padrões mostrados abaixo, dizemos que a geometria $A$ toca a geometria $B$:\n",
    "\n",
    "<table width=\"70%\">\n",
    "    <tr>\n",
    "        <th style=\"text-align: center;\"></th>\n",
    "        <th style=\"text-align: center;\">$Interior(B)$</th>\n",
    "        <th style=\"text-align: center;\">$Fronteira(B)$</th>\n",
    "        <th style=\"text-align: center;\">$Exterior(B)$</th>\n",
    "    </tr>\n",
    "    \n",
    "    <tr>\n",
    "        <th style=\"text-align: center;\">$Interior(A)$</th>\n",
    "        <td style=\"text-align: center; border: 1px solid black\">$F$</td>\n",
    "        <td style=\"text-align: center; border: 1px solid black\">$T$</td>\n",
    "        <td style=\"text-align: center; border: 1px solid black\">$*$</td>\n",
    "    </tr>\n",
    "    \n",
    "    <tr>\n",
    "        <th style=\"text-align: center;\">$Fonteira(A)$</th>\n",
    "        <td style=\"text-align: center; border: 1px solid black\">$*$</td>\n",
    "        <td style=\"text-align: center; border: 1px solid black\">$*$</td>\n",
    "        <td style=\"text-align: center; border: 1px solid black\">$*$</td>\n",
    "    </tr>\n",
    "    \n",
    "    <tr>\n",
    "        <td style=\"text-align: center;\">$Exterior(A)$</th>\n",
    "        <td style=\"text-align: center; border: 1px solid black\">$*$</td>\n",
    "        <td style=\"text-align: center; border: 1px solid black\">$*$</td>\n",
    "        <td style=\"text-align: center; border: 1px solid black\">$*$</td>\n",
    "    </tr>\n",
    "</table>\n",
    "\n",
    "<table width=\"70%\">\n",
    "    <tr>\n",
    "        <th style=\"text-align: center;\"></th>\n",
    "        <th style=\"text-align: center;\">$Interior(B)$</th>\n",
    "        <th style=\"text-align: center;\">$Fronteira(B)$</th>\n",
    "        <th style=\"text-align: center;\">$Exterior(B)$</th>\n",
    "    </tr>\n",
    "    \n",
    "    <tr>\n",
    "        <th style=\"text-align: center;\">$Interior(A)$</th>\n",
    "        <td style=\"text-align: center; border: 1px solid black\">$F$</td>\n",
    "        <td style=\"text-align: center; border: 1px solid black\">$*$</td>\n",
    "        <td style=\"text-align: center; border: 1px solid black\">$*$</td>\n",
    "    </tr>\n",
    "    \n",
    "    <tr>\n",
    "        <th style=\"text-align: center;\">$Fonteira(A)$</th>\n",
    "        <td style=\"text-align: center; border: 1px solid black\">$T$</td>\n",
    "        <td style=\"text-align: center; border: 1px solid black\">$*$</td>\n",
    "        <td style=\"text-align: center; border: 1px solid black\">$*$</td>\n",
    "    </tr>\n",
    "    \n",
    "    <tr>\n",
    "        <td style=\"text-align: center;\">$Exterior(A)$</th>\n",
    "        <td style=\"text-align: center; border: 1px solid black\">$*$</td>\n",
    "        <td style=\"text-align: center; border: 1px solid black\">$*$</td>\n",
    "        <td style=\"text-align: center; border: 1px solid black\">$*$</td>\n",
    "    </tr>\n",
    "</table>\n",
    "\n",
    "<table width=\"70%\">\n",
    "    <tr>\n",
    "        <th style=\"text-align: center;\"></th>\n",
    "        <th style=\"text-align: center;\">$Interior(B)$</th>\n",
    "        <th style=\"text-align: center;\">$Fronteira(B)$</th>\n",
    "        <th style=\"text-align: center;\">$Exterior(B)$</th>\n",
    "    </tr>\n",
    "    \n",
    "    <tr>\n",
    "        <th style=\"text-align: center;\">$Interior(A)$</th>\n",
    "        <td style=\"text-align: center; border: 1px solid black\">$F$</td>\n",
    "        <td style=\"text-align: center; border: 1px solid black\">$*$</td>\n",
    "        <td style=\"text-align: center; border: 1px solid black\">$*$</td>\n",
    "    </tr>\n",
    "    \n",
    "    <tr>\n",
    "        <th style=\"text-align: center;\">$Fonteira(A)$</th>\n",
    "        <td style=\"text-align: center; border: 1px solid black\">$*$</td>\n",
    "        <td style=\"text-align: center; border: 1px solid black\">$T$</td>\n",
    "        <td style=\"text-align: center; border: 1px solid black\">$*$</td>\n",
    "    </tr>\n",
    "    \n",
    "    <tr>\n",
    "        <td style=\"text-align: center;\">$Exterior(A)$</th>\n",
    "        <td style=\"text-align: center; border: 1px solid black\">$*$</td>\n",
    "        <td style=\"text-align: center; border: 1px solid black\">$*$</td>\n",
    "        <td style=\"text-align: center; border: 1px solid black\">$*$</td>\n",
    "    </tr>\n",
    "</table>\n",
    "\n",
    "Os três padrões acima estabelecem que os objetos não podem ter intersecção entre seus interiores, mas podem ter intersecção entre as fronteiras ou entre a fronteira de um e o interior do outro.\n",
    "\n",
    "A `Figura 8` apresenta alguns pares de objetos que satisfazem o relacionamento espacial `Touches`, de acordo com os padrões mostrados acima:\n",
    "\n",
    "<table style=\"border: 1px solid black;\">\n",
    "    <caption>**Figura 8** - $A$ e $B$ são geometrias que se tocam.</caption>\n",
    "    <tr>\n",
    "        <th style=\"text-align: center; border: 1px solid black\">(a)</th>\n",
    "        <th style=\"text-align: center; border: 1px solid black\">(b)</th>\n",
    "        <th style=\"text-align: center; border: 1px solid black\">(c)</th>\n",
    "        <th style=\"text-align: center; border: 1px solid black\">(d)</th>\n",
    "    </tr>\n",
    "\n",
    "    <tr>\n",
    "        <td style=\"border: 1px solid black\"><img src=\"img/op-touch-1.png\" alt=\"Dois polígonos que se tocam\" style=\"width: 150px;\" align=\"center\"></td>\n",
    "        <td style=\"border: 1px solid black\"><img src=\"img/op-touch-2.png\" alt=\"Polígono e Ponto que se tocam\" style=\"width: 150px;\" align=\"center\"></td>\n",
    "        <td style=\"border: 1px solid black\"><img src=\"img/op-touch-3.png\" alt=\"Polígono e Linha que se tocam\" style=\"width: 150px;\" align=\"center\"></td>\n",
    "        <td style=\"border: 1px solid black\"><img src=\"img/op-touch-4.png\" alt=\"Polígono e Linha que se tocam\" style=\"width: 150px;\" align=\"center\"></td>\n",
    "    </tr>\n",
    "</table>"
   ]
  },
  {
   "cell_type": "markdown",
   "metadata": {},
   "source": [
    "#### $Crosses(Geometry, Geometry) \\rightarrow bool$\n",
    "<hr style=\"border:0.25px solid #EE0000;\">\n",
    "\n",
    "Retorna verdadeiro (`True`) se a primeira geometria cruza a segunda. Este relacionamento espacial é definido para os casos P/L, P/A, L/L e L/A.\n",
    "\n",
    "O resultado da intersecção entre duas geometrias deve gerar uma outra de dimensão um nível menor do que a maior dimensão das geometrias envolvidas e os interiores devem ter intersecção.\n",
    "\n",
    "Nos casos P/L, P/A, ou L/A:\n",
    "<table width=\"70%\">\n",
    "    <tr>\n",
    "        <th style=\"text-align: center;\"></th>\n",
    "        <th style=\"text-align: center;\">$Interior(B)$</th>\n",
    "        <th style=\"text-align: center;\">$Fronteira(B)$</th>\n",
    "        <th style=\"text-align: center;\">$Exterior(B)$</th>\n",
    "    </tr>\n",
    "    \n",
    "    <tr>\n",
    "        <th style=\"text-align: center;\">$Interior(A)$</th>\n",
    "        <td style=\"text-align: center; border: 1px solid black\">$T$</td>\n",
    "        <td style=\"text-align: center; border: 1px solid black\">$*$</td>\n",
    "        <td style=\"text-align: center; border: 1px solid black\">$T$</td>\n",
    "    </tr>\n",
    "    \n",
    "    <tr>\n",
    "        <th style=\"text-align: center;\">$Fonteira(A)$</th>\n",
    "        <td style=\"text-align: center; border: 1px solid black\">$*$</td>\n",
    "        <td style=\"text-align: center; border: 1px solid black\">$*$</td>\n",
    "        <td style=\"text-align: center; border: 1px solid black\">$*$</td>\n",
    "    </tr>\n",
    "    \n",
    "    <tr>\n",
    "        <td style=\"text-align: center;\">$Exterior(A)$</th>\n",
    "        <td style=\"text-align: center; border: 1px solid black\">$*$</td>\n",
    "        <td style=\"text-align: center; border: 1px solid black\">$*$</td>\n",
    "        <td style=\"text-align: center; border: 1px solid black\">$*$</td>\n",
    "    </tr>\n",
    "</table>\n",
    "\n",
    "No caso L/L:\n",
    "<table width=\"70%\">\n",
    "    <tr>\n",
    "        <th style=\"text-align: center;\"></th>\n",
    "        <th style=\"text-align: center;\">$Interior(B)$</th>\n",
    "        <th style=\"text-align: center;\">$Fronteira(B)$</th>\n",
    "        <th style=\"text-align: center;\">$Exterior(B)$</th>\n",
    "    </tr>\n",
    "    \n",
    "    <tr>\n",
    "        <th style=\"text-align: center;\">$Interior(A)$</th>\n",
    "        <td style=\"text-align: center; border: 1px solid black\">$0$</td>\n",
    "        <td style=\"text-align: center; border: 1px solid black\">$*$</td>\n",
    "        <td style=\"text-align: center; border: 1px solid black\">$*$</td>\n",
    "    </tr>\n",
    "    \n",
    "    <tr>\n",
    "        <th style=\"text-align: center;\">$Fonteira(A)$</th>\n",
    "        <td style=\"text-align: center; border: 1px solid black\">$*$</td>\n",
    "        <td style=\"text-align: center; border: 1px solid black\">$*$</td>\n",
    "        <td style=\"text-align: center; border: 1px solid black\">$*$</td>\n",
    "    </tr>\n",
    "    \n",
    "    <tr>\n",
    "        <td style=\"text-align: center;\">$Exterior(A)$</th>\n",
    "        <td style=\"text-align: center; border: 1px solid black\">$*$</td>\n",
    "        <td style=\"text-align: center; border: 1px solid black\">$*$</td>\n",
    "        <td style=\"text-align: center; border: 1px solid black\">$*$</td>\n",
    "    </tr>\n",
    "</table>\n",
    "\n",
    "A `Figura 9` apresenta alguns pares de objetos que satisfazem o relacionamento espacial `Crosses`, de acordo com os padrões mostrados acima:\n",
    "\n",
    "<table style=\"border: 1px solid black;\">\n",
    "    <caption>**Figura 9** - $A$ e $B$ são geometrias que se cruzam.</caption>\n",
    "    <tr>\n",
    "        <th style=\"text-align: center; border: 1px solid black\">(a)</th>\n",
    "        <th style=\"text-align: center; border: 1px solid black\">(b)</th>\n",
    "        <th style=\"text-align: center; border: 1px solid black\">(c)</th>\n",
    "        <th style=\"text-align: center; border: 1px solid black\">(d)</th>\n",
    "    </tr>\n",
    "\n",
    "    <tr>\n",
    "        <td style=\"border: 1px solid black\"><img src=\"img/op-cross-1.png\" alt=\"Multipoint cruzando um polígono\" style=\"width: 150px;\" align=\"center\"></td>\n",
    "        <td style=\"border: 1px solid black\"><img src=\"img/op-cross-2.png\" alt=\"Multipoint cruzando uma linha\" style=\"width: 150px;\" align=\"center\"></td>\n",
    "        <td style=\"border: 1px solid black\"><img src=\"img/op-cross-3.png\" alt=\"Llinhas cruzando um polígono\" style=\"width: 150px;\" align=\"center\"></td>\n",
    "        <td style=\"border: 1px solid black\"><img src=\"img/op-cross-4.png\" alt=\"Duas linhas que se cruzam\" style=\"width: 150px;\" align=\"center\"></td>\n",
    "    </tr>\n",
    "</table>"
   ]
  },
  {
   "cell_type": "markdown",
   "metadata": {},
   "source": [
    "#### $Within(Geometry, Geometry) \\rightarrow bool$\n",
    "<hr style=\"border:0.25px solid #EE0000;\">\n",
    "\n",
    "Retorna verdadeiro (`True`) se a primeira geometria está dentro da segunda e se elas não são iguais.\n",
    "\n",
    "O padrão da matriz para este relacionamento espacial é o seguinte:\n",
    "<table width=\"70%\">\n",
    "    <tr>\n",
    "        <th style=\"text-align: center;\"></th>\n",
    "        <th style=\"text-align: center;\">$Interior(B)$</th>\n",
    "        <th style=\"text-align: center;\">$Fronteira(B)$</th>\n",
    "        <th style=\"text-align: center;\">$Exterior(B)$</th>\n",
    "    </tr>\n",
    "    \n",
    "    <tr>\n",
    "        <th style=\"text-align: center;\">$Interior(A)$</th>\n",
    "        <td style=\"text-align: center; border: 1px solid black\">$T$</td>\n",
    "        <td style=\"text-align: center; border: 1px solid black\">$*$</td>\n",
    "        <td style=\"text-align: center; border: 1px solid black\">$F$</td>\n",
    "    </tr>\n",
    "    \n",
    "    <tr>\n",
    "        <th style=\"text-align: center;\">$Fonteira(A)$</th>\n",
    "        <td style=\"text-align: center; border: 1px solid black\">$*$</td>\n",
    "        <td style=\"text-align: center; border: 1px solid black\">$*$</td>\n",
    "        <td style=\"text-align: center; border: 1px solid black\">$F$</td>\n",
    "    </tr>\n",
    "    \n",
    "    <tr>\n",
    "        <td style=\"text-align: center;\">$Exterior(A)$</th>\n",
    "        <td style=\"text-align: center; border: 1px solid black\">$*$</td>\n",
    "        <td style=\"text-align: center; border: 1px solid black\">$*$</td>\n",
    "        <td style=\"text-align: center; border: 1px solid black\">$*$</td>\n",
    "    </tr>\n",
    "</table>\n",
    "\n",
    "A matriz acima define que o predicado `Within` retorna `True` quando os interiores das duas geometrias possuem intersecção e quando o interior e a fronteira do objeto A não têm intersecção com o exterior de B. O uso do padrão `*` nas demais células indica que nenhuma outra condição importa para determinar este relacionamento.\n",
    "\n",
    "A `Figura 10` apresenta alguns pares de objetos que satisfazem o relacionamento espacial `Within`, de acordo com os padrões mostrados acima:\n",
    "\n",
    "<table style=\"border: 1px solid black;\">\n",
    "    <caption>**Figura 10** - A geometria $A$ está dentro da geometria $B$.</caption>\n",
    "    <tr>\n",
    "        <th style=\"text-align: center; border: 1px solid black\">(a)</th>\n",
    "        <th style=\"text-align: center; border: 1px solid black\">(b)</th>\n",
    "        <th style=\"text-align: center; border: 1px solid black\">(c)</th>\n",
    "    </tr>\n",
    "\n",
    "    <tr>\n",
    "        <td style=\"border: 1px solid black\"><img src=\"img/op-within-1.png\" alt=\"Multipoint dentro de um polígono\" style=\"width: 150px;\" align=\"center\"></td>\n",
    "        <td style=\"border: 1px solid black\"><img src=\"img/op-within-2.png\" alt=\"Linha dentro de um polígono\" style=\"width: 150px;\" align=\"center\"></td>\n",
    "        <td style=\"border: 1px solid black\"><img src=\"img/op-within-3.png\" alt=\"Polígono dentro de outro polígono\" style=\"width: 150px;\" align=\"center\"></td>\n",
    "    </tr>\n",
    "</table>\n",
    "\n",
    "<table style=\"border: 1px solid black;\">\n",
    "    <tr>\n",
    "        <th style=\"text-align: center; border: 1px solid black\">(d)</th>\n",
    "        <th style=\"text-align: center; border: 1px solid black\">(e)</th>\n",
    "        <th style=\"text-align: center; border: 1px solid black\">(f)</th>\n",
    "    </tr>\n",
    "\n",
    "    <tr>\n",
    "        <td style=\"border: 1px solid black\"><img src=\"img/op-within-4.png\" alt=\"Polígono dentro de outro polígono\" style=\"width: 150px;\" align=\"center\"></td>\n",
    "        <td style=\"border: 1px solid black\"><img src=\"img/op-within-5.png\" alt=\"Linha dentro de outra linha\" style=\"width: 150px;\" align=\"center\"></td>\n",
    "        <td style=\"border: 1px solid black\"><img src=\"img/op-within-6.png\" alt=\"Ponto dentro de uma linha\" style=\"width: 150px;\" align=\"center\"></td>\n",
    "    </tr>\n",
    "</table>"
   ]
  },
  {
   "cell_type": "markdown",
   "metadata": {},
   "source": [
    "#### $Contains(GeometryA, GeometryB) \\rightarrow bool$\n",
    "<hr style=\"border:0.25px solid #EE0000;\">\n",
    "\n",
    "Retorna verdadeiro (`True`) se a primeira geometria contém a segunda e se elas não são iguais. Este relacionamento espacial é o inverso de `Within`, de maneira que temos:\n",
    "\n",
    "$Contains(A, B) \\iff Within(B, A)$\n",
    "\n",
    "A matriz de intersecções do predicado `Contains` é a seguinte:\n",
    "<table width=\"70%\">\n",
    "    <tr>\n",
    "        <th style=\"text-align: center;\"></th>\n",
    "        <th style=\"text-align: center;\">$Interior(B)$</th>\n",
    "        <th style=\"text-align: center;\">$Fronteira(B)$</th>\n",
    "        <th style=\"text-align: center;\">$Exterior(B)$</th>\n",
    "    </tr>\n",
    "    \n",
    "    <tr>\n",
    "        <th style=\"text-align: center;\">$Interior(A)$</th>\n",
    "        <td style=\"text-align: center; border: 1px solid black\">$T$</td>\n",
    "        <td style=\"text-align: center; border: 1px solid black\">$*$</td>\n",
    "        <td style=\"text-align: center; border: 1px solid black\">$*$</td>\n",
    "    </tr>\n",
    "    \n",
    "    <tr>\n",
    "        <th style=\"text-align: center;\">$Fonteira(A)$</th>\n",
    "        <td style=\"text-align: center; border: 1px solid black\">$*$</td>\n",
    "        <td style=\"text-align: center; border: 1px solid black\">$*$</td>\n",
    "        <td style=\"text-align: center; border: 1px solid black\">$*$</td>\n",
    "    </tr>\n",
    "    \n",
    "    <tr>\n",
    "        <td style=\"text-align: center;\">$Exterior(A)$</th>\n",
    "        <td style=\"text-align: center; border: 1px solid black\">$F$</td>\n",
    "        <td style=\"text-align: center; border: 1px solid black\">$F$</td>\n",
    "        <td style=\"text-align: center; border: 1px solid black\">$*$</td>\n",
    "    </tr>\n",
    "</table>\n",
    "\n",
    "Na matriz acima podemos observar que o interior das duas geometrias devem ter intersecção e que a fronteira e interior da segunda ($B$) não pode ter intersecção com o exterior da primeira ($A$)."
   ]
  },
  {
   "cell_type": "markdown",
   "metadata": {},
   "source": [
    "#### $Overlaps(Geometry, Geometry) \\rightarrow bool$\n",
    "<hr style=\"border:0.25px solid #FF0000;\">\n",
    "\n",
    "Retorna verdadeiro (`True`) se a primeira geometria sobrepõe a segunda. Este relacionamento espacial é definido para os casos A/A, L/L e P/P. Em outras palavras, este relacionamento só é válido para geometrias de mesma dimensão e se a intersecção entre elas resultar em um objeto de mesma dimensão.\n",
    "\n",
    "No caso P/P ou A/A, o predicado `Overlap` retorna `True` se o interior das duas geometria possuem intersecção e se o interior de uma faz intersecção com o exterior da outra e vice-versa. Este relacionamento é definido através do seguinte padrão:\n",
    "\n",
    "<table width=\"70%\">\n",
    "    <tr>\n",
    "        <th style=\"text-align: center;\"></th>\n",
    "        <th style=\"text-align: center;\">$Interior(B)$</th>\n",
    "        <th style=\"text-align: center;\">$Fronteira(B)$</th>\n",
    "        <th style=\"text-align: center;\">$Exterior(B)$</th>\n",
    "    </tr>\n",
    "    \n",
    "    <tr>\n",
    "        <th style=\"text-align: center;\">$Interior(A)$</th>\n",
    "        <td style=\"text-align: center; border: 1px solid black\">$T$</td>\n",
    "        <td style=\"text-align: center; border: 1px solid black\">$*$</td>\n",
    "        <td style=\"text-align: center; border: 1px solid black\">$T$</td>\n",
    "    </tr>\n",
    "    \n",
    "    <tr>\n",
    "        <th style=\"text-align: center;\">$Fonteira(A)$</th>\n",
    "        <td style=\"text-align: center; border: 1px solid black\">$*$</td>\n",
    "        <td style=\"text-align: center; border: 1px solid black\">$*$</td>\n",
    "        <td style=\"text-align: center; border: 1px solid black\">$*$</td>\n",
    "    </tr>\n",
    "    \n",
    "    <tr>\n",
    "        <td style=\"text-align: center;\">$Exterior(A)$</th>\n",
    "        <td style=\"text-align: center; border: 1px solid black\">$T$</td>\n",
    "        <td style=\"text-align: center; border: 1px solid black\">$*$</td>\n",
    "        <td style=\"text-align: center; border: 1px solid black\">$*$</td>\n",
    "    </tr>\n",
    "</table>\n",
    "\n",
    "No caso L/L, a intersecção deve resultar em um objeto $1$-dimensional. Assim, temos o seguinte padrão de matriz:\n",
    "\n",
    "<table width=\"70%\">\n",
    "    <tr>\n",
    "        <th style=\"text-align: center;\"></th>\n",
    "        <th style=\"text-align: center;\">$Interior(B)$</th>\n",
    "        <th style=\"text-align: center;\">$Fronteira(B)$</th>\n",
    "        <th style=\"text-align: center;\">$Exterior(B)$</th>\n",
    "    </tr>\n",
    "    \n",
    "    <tr>\n",
    "        <th style=\"text-align: center;\">$Interior(A)$</th>\n",
    "        <td style=\"text-align: center; border: 1px solid black\">$1$</td>\n",
    "        <td style=\"text-align: center; border: 1px solid black\">$*$</td>\n",
    "        <td style=\"text-align: center; border: 1px solid black\">$T$</td>\n",
    "    </tr>\n",
    "    \n",
    "    <tr>\n",
    "        <th style=\"text-align: center;\">$Fonteira(A)$</th>\n",
    "        <td style=\"text-align: center; border: 1px solid black\">$*$</td>\n",
    "        <td style=\"text-align: center; border: 1px solid black\">$*$</td>\n",
    "        <td style=\"text-align: center; border: 1px solid black\">$*$</td>\n",
    "    </tr>\n",
    "    \n",
    "    <tr>\n",
    "        <td style=\"text-align: center;\">$Exterior(A)$</th>\n",
    "        <td style=\"text-align: center; border: 1px solid black\">$T$</td>\n",
    "        <td style=\"text-align: center; border: 1px solid black\">$*$</td>\n",
    "        <td style=\"text-align: center; border: 1px solid black\">$*$</td>\n",
    "    </tr>\n",
    "</table>\n",
    "\n",
    "A `Figura 11` apresenta alguns pares de objetos que satisfazem o relacionamento espacial `Overlaps`, de acordo com os padrões mostrados acima:\n",
    "\n",
    "<table style=\"border: 1px solid black;\">\n",
    "    <caption>**Figura 11** - A geometria $A$ sobrepõe a geometria $B$.</caption>\n",
    "    <tr>\n",
    "        <th style=\"text-align: center; border: 1px solid black\">(a)</th>\n",
    "        <th style=\"text-align: center; border: 1px solid black\">(b)</th>\n",
    "        <th style=\"text-align: center; border: 1px solid black\">(c)</th>\n",
    "    </tr>\n",
    "\n",
    "    <tr>\n",
    "        <td style=\"border: 1px solid black\"><img src=\"img/op-overlap-1.png\" alt=\"Polígonos que se sobrepõe\" style=\"width: 150px;\" align=\"center\"></td>\n",
    "        <td style=\"border: 1px solid black\"><img src=\"img/op-overlap-2.png\" alt=\"Linhas que se sobrepõe\" style=\"width: 150px;\" align=\"center\"></td>\n",
    "        <td style=\"border: 1px solid black\"><img src=\"img/op-overlap-3.png\" alt=\"Ponto sobrepondo pontos\" style=\"width: 150px;\" align=\"center\"></td>\n",
    "    </tr>\n",
    "</table>"
   ]
  },
  {
   "cell_type": "markdown",
   "metadata": {},
   "source": [
    "#### $Intersects(Geometry, Geometry) \\rightarrow bool$\n",
    "<hr style=\"border:0.25px solid #EE0000;\">\n",
    "\n",
    "Retorna verdadeiro (`True`) se as duas geometrias tiverem algum tipo de interação espacial, isto é, se os interiores e fronteiras tiverem qualquer intersecção. Este relacionamento espacial é definido como sendo a negação do relacionamento `Disjoint`:\n",
    "\n",
    "$Intersects(A, B) \\iff \\neg Disjoint(A, B)$\n",
    "\n",
    "Na verdade esse relacionamento diz que as geometrias $A$ e $B$ podem se tocar, ou cruzar, ou sobrepor, ou uma estar contida uma na outra, ou serem iguais. Define-se este relacionamento para facilitar a escrita de expressões com predicados espaciais.\n",
    "\n",
    "Portanto, o predicado `Intersects` retorna `True` se os interiores das duas geometrias se intersectam:\n",
    "<table width=\"70%\">\n",
    "    <tr>\n",
    "        <th style=\"text-align: center;\"></th>\n",
    "        <th style=\"text-align: center;\">$Interior(B)$</th>\n",
    "        <th style=\"text-align: center;\">$Fronteira(B)$</th>\n",
    "        <th style=\"text-align: center;\">$Exterior(B)$</th>\n",
    "    </tr>\n",
    "    \n",
    "    <tr>\n",
    "        <th style=\"text-align: center;\">$Interior(A)$</th>\n",
    "        <td style=\"text-align: center; border: 1px solid black\">$T$</td>\n",
    "        <td style=\"text-align: center; border: 1px solid black\">$*$</td>\n",
    "        <td style=\"text-align: center; border: 1px solid black\">$*$</td>\n",
    "    </tr>\n",
    "    \n",
    "    <tr>\n",
    "        <th style=\"text-align: center;\">$Fonteira(A)$</th>\n",
    "        <td style=\"text-align: center; border: 1px solid black\">$*$</td>\n",
    "        <td style=\"text-align: center; border: 1px solid black\">$*$</td>\n",
    "        <td style=\"text-align: center; border: 1px solid black\">$*$</td>\n",
    "    </tr>\n",
    "    \n",
    "    <tr>\n",
    "        <td style=\"text-align: center;\">$Exterior(A)$</th>\n",
    "        <td style=\"text-align: center; border: 1px solid black\">$*$</td>\n",
    "        <td style=\"text-align: center; border: 1px solid black\">$*$</td>\n",
    "        <td style=\"text-align: center; border: 1px solid black\">$*$</td>\n",
    "    </tr>\n",
    "</table>\n",
    "\n",
    "Se as fronteiras das duas geometrias se intersectam:\n",
    "<table width=\"70%\">\n",
    "    <tr>\n",
    "        <th style=\"text-align: center;\"></th>\n",
    "        <th style=\"text-align: center;\">$Interior(B)$</th>\n",
    "        <th style=\"text-align: center;\">$Fronteira(B)$</th>\n",
    "        <th style=\"text-align: center;\">$Exterior(B)$</th>\n",
    "    </tr>\n",
    "    \n",
    "    <tr>\n",
    "        <th style=\"text-align: center;\">$Interior(A)$</th>\n",
    "        <td style=\"text-align: center; border: 1px solid black\">$*$</td>\n",
    "        <td style=\"text-align: center; border: 1px solid black\">$*$</td>\n",
    "        <td style=\"text-align: center; border: 1px solid black\">$*$</td>\n",
    "    </tr>\n",
    "    \n",
    "    <tr>\n",
    "        <th style=\"text-align: center;\">$Fonteira(A)$</th>\n",
    "        <td style=\"text-align: center; border: 1px solid black\">$*$</td>\n",
    "        <td style=\"text-align: center; border: 1px solid black\">$T$</td>\n",
    "        <td style=\"text-align: center; border: 1px solid black\">$*$</td>\n",
    "    </tr>\n",
    "    \n",
    "    <tr>\n",
    "        <td style=\"text-align: center;\">$Exterior(A)$</th>\n",
    "        <td style=\"text-align: center; border: 1px solid black\">$*$</td>\n",
    "        <td style=\"text-align: center; border: 1px solid black\">$*$</td>\n",
    "        <td style=\"text-align: center; border: 1px solid black\">$*$</td>\n",
    "    </tr>\n",
    "</table>\n",
    "\n",
    "Se o interior da primeira intersecta a fronteira da segunda:\n",
    "<table width=\"70%\">\n",
    "    <tr>\n",
    "        <th style=\"text-align: center;\"></th>\n",
    "        <th style=\"text-align: center;\">$Interior(B)$</th>\n",
    "        <th style=\"text-align: center;\">$Fronteira(B)$</th>\n",
    "        <th style=\"text-align: center;\">$Exterior(B)$</th>\n",
    "    </tr>\n",
    "    \n",
    "    <tr>\n",
    "        <th style=\"text-align: center;\">$Interior(A)$</th>\n",
    "        <td style=\"text-align: center; border: 1px solid black\">$*$</td>\n",
    "        <td style=\"text-align: center; border: 1px solid black\">$T$</td>\n",
    "        <td style=\"text-align: center; border: 1px solid black\">$*$</td>\n",
    "    </tr>\n",
    "    \n",
    "    <tr>\n",
    "        <th style=\"text-align: center;\">$Fonteira(A)$</th>\n",
    "        <td style=\"text-align: center; border: 1px solid black\">$*$</td>\n",
    "        <td style=\"text-align: center; border: 1px solid black\">$*$</td>\n",
    "        <td style=\"text-align: center; border: 1px solid black\">$*$</td>\n",
    "    </tr>\n",
    "    \n",
    "    <tr>\n",
    "        <td style=\"text-align: center;\">$Exterior(A)$</th>\n",
    "        <td style=\"text-align: center; border: 1px solid black\">$*$</td>\n",
    "        <td style=\"text-align: center; border: 1px solid black\">$*$</td>\n",
    "        <td style=\"text-align: center; border: 1px solid black\">$*$</td>\n",
    "    </tr>\n",
    "</table>\n",
    "\n",
    "Ou se a fronteira da primeira intersecta o interior da segunda:\n",
    "<table width=\"70%\">\n",
    "    <tr>\n",
    "        <th style=\"text-align: center;\"></th>\n",
    "        <th style=\"text-align: center;\">$Interior(B)$</th>\n",
    "        <th style=\"text-align: center;\">$Fronteira(B)$</th>\n",
    "        <th style=\"text-align: center;\">$Exterior(B)$</th>\n",
    "    </tr>\n",
    "    \n",
    "    <tr>\n",
    "        <th style=\"text-align: center;\">$Interior(A)$</th>\n",
    "        <td style=\"text-align: center; border: 1px solid black\">$*$</td>\n",
    "        <td style=\"text-align: center; border: 1px solid black\">$*$</td>\n",
    "        <td style=\"text-align: center; border: 1px solid black\">$*$</td>\n",
    "    </tr>\n",
    "    \n",
    "    <tr>\n",
    "        <th style=\"text-align: center;\">$Fonteira(A)$</th>\n",
    "        <td style=\"text-align: center; border: 1px solid black\">$T$</td>\n",
    "        <td style=\"text-align: center; border: 1px solid black\">$*$</td>\n",
    "        <td style=\"text-align: center; border: 1px solid black\">$*$</td>\n",
    "    </tr>\n",
    "    \n",
    "    <tr>\n",
    "        <td style=\"text-align: center;\">$Exterior(A)$</th>\n",
    "        <td style=\"text-align: center; border: 1px solid black\">$*$</td>\n",
    "        <td style=\"text-align: center; border: 1px solid black\">$*$</td>\n",
    "        <td style=\"text-align: center; border: 1px solid black\">$*$</td>\n",
    "    </tr>\n",
    "</table>"
   ]
  },
  {
   "cell_type": "markdown",
   "metadata": {},
   "source": [
    "# 2. Ecossistema Python para Aplicações Geoespaciais\n",
    "<hr style=\"border:1px solid #0077b9;\">"
   ]
  },
  {
   "cell_type": "markdown",
   "metadata": {},
   "source": [
    "<img src=\"img/ecossistema-geoespacial.png\" alt=\"Ecossistema Python para Aplicações Geoespaciais\" style=\"width: 600px;\" align=\"center\">\n",
    "<center>**Figura 12** - Bibliotecas C/C++ e Python para manipulação de dados geoespaciais.</center>"
   ]
  },
  {
   "cell_type": "markdown",
   "metadata": {},
   "source": [
    "# 3. Tipos Geométricos em Python\n",
    "<hr style=\"border:1px solid #0077b9;\">"
   ]
  },
  {
   "cell_type": "markdown",
   "metadata": {},
   "source": [
    "Em Python, podemos utilizar as bibliotecas [GDAL](http://www.gdal.org) e [Shapely](https://github.com/Toblerity/Shapely) para criação e manipulação de geometrias.\n",
    "\n",
    "A GDAL é uma biblioteca de software livre que fornece uma *camada de abstração de dados geoespaciais* que possibilita o desenvolvimento de aplicações que manipulam dados nos mais diferentes formatos e sistemas. A API (*Application Programming Interface* ou Interface de Programação de Aplicações) desta biblioteca encontra-se disponível para uso em Python através de um *binding* (ou *wrapper*), que fornece acesso às funcionalidades implementadas em C++. A GDAL é basicamente composta de quatro APIs:\n",
    "* **GDAL:** Voltada para manipulação de dados matriciais (*raster*), com capacidade de leitura e escrita de diversos formatos de imagem de sensoriamento remoto, como GeoTIFF, HDF, e JPEG, entre outros. Esta parte da API contém objetos para manipulação das dimensões de uma imagem, para acesso de leitura e escrita de blocos nas bandas espectrais de uma imagem, acesso a metadados e manipulação de pirâmides de multi-resolução.<br><br>\n",
    "\n",
    "* **OGR:** Parte da API voltada para manipulação de dados em formatos vetoriais, tais como *ESRI Shapefile*, *Google KML* e *GeoJSON*. Apresenta os conceitos de camada de informação, feições, atributos alfanuméricos e geométricos.<br><br>\n",
    "\n",
    "* **OSR:** Voltada para a manipulação de projeções e sistemas de referência espacial.<br><br>\n",
    "\n",
    "* **GNM:** Acrônimo de *Geographic Network Model*, esta parte da API serve ao propósito de manipulação de redes geográficas.\n",
    "\n",
    "A parte da biblioteca GDAL voltada para manipulação de dados vetoriais conhecida por OGR contém os tipos geométricos da OGC-SFS mostrados na `Figura 2` (Seção 1.1). As operações espaciais disponíveis sobre os tipos geométricos da GDAL são implementadas através da biblioteca C++ GEOS (*Geometry Engine Open Source*). A GEOS implementa todos os operadores espaciais definidos na OGC-SFS, com destaque para para as operações topológicas. Além disso, ela possui outra operações, como triangulação, diagrama de voronoi e estruturas de dados espaciais como árvores-R. Consequentemente, a GEOS é usada em diversos projetos de software livre, como TerraView, QGIS, PostGIS e muitos outros.\n",
    "\n",
    "Apesar da GDAL ser uma biblioteca robusta e completa, sua API Python expõe os tipos e operações com um estilo de prgramação muito próximo da linguagem C. Por isso, existem outras bibliotecas em Python que tentam fornecer um estilo de programação mais próximo do do universo Python. \n",
    "\n",
    "A biblioteca Shapely é uma dessas bibliotecas, que fornece especificamente o modelo geométrico e as operações espaciais da OGC-SFS num estilo \"*Pythonico*\". Vale ressaltar que a Shapely utiliza a GEOS para representação dos tipos geométricos bem como para as operações espaciais.\n",
    "\n",
    "Esta aula utilizará a bibloteca Shapely para ilustrar a manipulação de geometrias no espaço cartesiano em Python."
   ]
  },
  {
   "cell_type": "markdown",
   "metadata": {},
   "source": [
    "# 4. A Biblioteca Shapely\n",
    "<hr style=\"border:1px solid #0077b9;\">"
   ]
  },
  {
   "cell_type": "markdown",
   "metadata": {},
   "source": [
    "## 4.1. Instalação\n",
    "<hr style=\"border:0.25px solid #0077b9;\">\n",
    "\n",
    "Para realizar a instalação da biblioteca `shapely` com o gerenciador de pacotes da Anaconda, ative o ambiente virtual no qual deseja instalar essa biblioteca e em seguida instale o pacote com o mesmo nome da biblioteca, como mostrado abaixo:\n",
    "\n",
    "```bash\n",
    "conda activate geospatial\n",
    "\n",
    "conda install shapely\n",
    "```\n",
    "\n",
    "Você deverá instalar a versão `1.6.4` ou superior.\n",
    "\n",
    "Para verificar se sua instalação funcionou, importe a biblioteca e verifique a versão:"
   ]
  },
  {
   "cell_type": "code",
   "execution_count": null,
   "metadata": {},
   "outputs": [],
   "source": [
    "import shapely"
   ]
  },
  {
   "cell_type": "code",
   "execution_count": null,
   "metadata": {},
   "outputs": [],
   "source": [
    "shapely.__version__"
   ]
  },
  {
   "cell_type": "markdown",
   "metadata": {},
   "source": [
    "## 4.2. Tipos Geométricos\n",
    "<hr style=\"border:0.25px solid #0077b9;\">\n",
    "\n",
    "A biblioteca Shapely suporta os tipos geométricos `Point`, `LineString`,  `LinearRing`, `Polygon`,  `MultiPoint`, `MultiLineString`, `MultiPolygon` e `GeometryCollection` (`Figura 2`).\n",
    "\n",
    "Como a biblioteca Shapely utiliza a GEOS, as operações suportadas não consideram a componente $z$ em suas análises. Além disso, os tipos geométricos dessa biblioteca utilizam números em ponto flutuante para representação das coordenadas dos seus elementos geométricos."
   ]
  },
  {
   "cell_type": "markdown",
   "metadata": {},
   "source": [
    "### Pontos (Point)"
   ]
  },
  {
   "cell_type": "markdown",
   "metadata": {},
   "source": [
    "Para criar objetos do tipo `Point` é preciso importar esse tipo a partir da biblioteca `shapely` submódulo `geometry`:"
   ]
  },
  {
   "cell_type": "code",
   "execution_count": null,
   "metadata": {},
   "outputs": [],
   "source": [
    "from shapely.geometry import Point"
   ]
  },
  {
   "cell_type": "markdown",
   "metadata": {},
   "source": [
    "O construtor de um objeto `Point` aceita um par de valores `x`, `y` e, opcionalmente, um valor de `z`."
   ]
  },
  {
   "cell_type": "code",
   "execution_count": null,
   "metadata": {},
   "outputs": [],
   "source": [
    "pt = Point(5.0, 3.0)"
   ]
  },
  {
   "cell_type": "markdown",
   "metadata": {},
   "source": [
    "Outra possibilidade é construir um ponto utilizando uma tupla:"
   ]
  },
  {
   "cell_type": "code",
   "execution_count": null,
   "metadata": {},
   "outputs": [],
   "source": [
    "pt = Point( ( 10.0, 5.0) )"
   ]
  },
  {
   "cell_type": "markdown",
   "metadata": {},
   "source": [
    "As coordenadas de um ponto podem ser acessadas através do atributos `x` e `y`:"
   ]
  },
  {
   "cell_type": "code",
   "execution_count": null,
   "metadata": {},
   "outputs": [],
   "source": [
    "pt.x"
   ]
  },
  {
   "cell_type": "code",
   "execution_count": null,
   "metadata": {},
   "outputs": [],
   "source": [
    "pt.y"
   ]
  },
  {
   "cell_type": "markdown",
   "metadata": {},
   "source": [
    "Em um jupyter notebook a expresão abaixo apresenta um figura representando o ponto:"
   ]
  },
  {
   "cell_type": "code",
   "execution_count": null,
   "metadata": {},
   "outputs": [],
   "source": [
    "pt"
   ]
  },
  {
   "cell_type": "markdown",
   "metadata": {},
   "source": [
    "**Observação:** o desenho mostrado acima é possível pois o ambiente Jupyter reconhece que a expressão acima pode ser apresentada por uma figura em SVG.\n",
    "\n",
    "Um ponto não possui cumprimento:"
   ]
  },
  {
   "cell_type": "code",
   "execution_count": null,
   "metadata": {},
   "outputs": [],
   "source": [
    "pt.length"
   ]
  },
  {
   "cell_type": "markdown",
   "metadata": {},
   "source": [
    "Um ponto não possui área:"
   ]
  },
  {
   "cell_type": "code",
   "execution_count": null,
   "metadata": {},
   "outputs": [],
   "source": [
    "pt.area"
   ]
  },
  {
   "cell_type": "markdown",
   "metadata": {},
   "source": [
    "A fronteira de um ponto é o conjunto vazio:"
   ]
  },
  {
   "cell_type": "code",
   "execution_count": null,
   "metadata": {},
   "outputs": [],
   "source": [
    "pt.boundary"
   ]
  },
  {
   "cell_type": "markdown",
   "metadata": {},
   "source": [
    "### Linhas (LineString)"
   ]
  },
  {
   "cell_type": "markdown",
   "metadata": {},
   "source": [
    "Assim como o tipo `Point`, o tipo `LineString` deve ser importado da seguinte forma:"
   ]
  },
  {
   "cell_type": "code",
   "execution_count": null,
   "metadata": {},
   "outputs": [],
   "source": [
    "from shapely.geometry import LineString"
   ]
  },
  {
   "cell_type": "markdown",
   "metadata": {},
   "source": [
    "O construtor de um objeto `LineString` aceita como argumento uma sequência de tuplas `(x, y)` ou `(x, y, z)`:"
   ]
  },
  {
   "cell_type": "code",
   "execution_count": null,
   "metadata": {},
   "outputs": [],
   "source": [
    "line = LineString( [ (0, 0), (5, 2), (10, 9), (18, 10) ] )"
   ]
  },
  {
   "cell_type": "markdown",
   "metadata": {},
   "source": [
    "As coordenadas `x` e `y` dos vértices da linha podem ser acessados na forma de arrays:"
   ]
  },
  {
   "cell_type": "code",
   "execution_count": null,
   "metadata": {},
   "outputs": [],
   "source": [
    "line.xy"
   ]
  },
  {
   "cell_type": "markdown",
   "metadata": {},
   "source": [
    "Em um jupyter notebook a expresão abaixo apresenta um figura representando a linha:"
   ]
  },
  {
   "cell_type": "code",
   "execution_count": null,
   "metadata": {},
   "outputs": [],
   "source": [
    "line"
   ]
  },
  {
   "cell_type": "markdown",
   "metadata": {},
   "source": [
    "Uma linha possui cumprimento:"
   ]
  },
  {
   "cell_type": "code",
   "execution_count": null,
   "metadata": {},
   "outputs": [],
   "source": [
    "line.length"
   ]
  },
  {
   "cell_type": "markdown",
   "metadata": {},
   "source": [
    "Uma linha não possui área:"
   ]
  },
  {
   "cell_type": "code",
   "execution_count": null,
   "metadata": {},
   "outputs": [],
   "source": [
    "line.area"
   ]
  },
  {
   "cell_type": "markdown",
   "metadata": {},
   "source": [
    "A fronteira da linha é formada pelos pontos inicial e final, portanto, um objeto $0$-dimensional:"
   ]
  },
  {
   "cell_type": "code",
   "execution_count": null,
   "metadata": {},
   "outputs": [],
   "source": [
    "line.boundary"
   ]
  },
  {
   "cell_type": "markdown",
   "metadata": {},
   "source": [
    "Para acessar os elementos de uma linha podemos utilizar o atributo `coords`:"
   ]
  },
  {
   "cell_type": "code",
   "execution_count": null,
   "metadata": {},
   "outputs": [],
   "source": [
    "for c in line.coords:\n",
    "    print(c)"
   ]
  },
  {
   "cell_type": "markdown",
   "metadata": {},
   "source": [
    "Podemos usar a notação de *slice* de sequências com objetos do tipo `LineString`:"
   ]
  },
  {
   "cell_type": "code",
   "execution_count": null,
   "metadata": {},
   "outputs": [],
   "source": [
    "line.coords[0:2]"
   ]
  },
  {
   "cell_type": "code",
   "execution_count": null,
   "metadata": {},
   "outputs": [],
   "source": [
    "line.coords[1:]"
   ]
  },
  {
   "cell_type": "markdown",
   "metadata": {},
   "source": [
    "### Anel (LinearRing)"
   ]
  },
  {
   "cell_type": "markdown",
   "metadata": {},
   "source": [
    "Para criar objetos do tipo `LinearRing` é preciso importar a classe `LinearRing`:"
   ]
  },
  {
   "cell_type": "code",
   "execution_count": null,
   "metadata": {},
   "outputs": [],
   "source": [
    "from shapely.geometry import LinearRing"
   ]
  },
  {
   "cell_type": "markdown",
   "metadata": {},
   "source": [
    "O construtor de um objeto `LinearRing` aceita como argumento uma sequência de tuplas `(x, y)` ou `(x, y, z)`:"
   ]
  },
  {
   "cell_type": "code",
   "execution_count": null,
   "metadata": {},
   "outputs": [],
   "source": [
    "anel = LinearRing( [ (0, 0), (10, 0), (10, 10), (0, 10), (0, 0) ] )"
   ]
  },
  {
   "cell_type": "markdown",
   "metadata": {},
   "source": [
    "**Observação:** a sequência informada pode ser explicitamente fechada como no caso acima ou pode ser aberta. Neste último caso a sequência será implicitamente fechada.\n",
    "\n",
    "Assim como no caso de linhas, as coordenadas de um anel podem ser acessadas na forma de arrays:"
   ]
  },
  {
   "cell_type": "code",
   "execution_count": null,
   "metadata": {},
   "outputs": [],
   "source": [
    "anel.xy"
   ]
  },
  {
   "cell_type": "markdown",
   "metadata": {},
   "source": [
    "Em um jupyter notebook a expresão abaixo apresenta um figura representando o anel:"
   ]
  },
  {
   "cell_type": "code",
   "execution_count": null,
   "metadata": {},
   "outputs": [],
   "source": [
    "anel"
   ]
  },
  {
   "cell_type": "markdown",
   "metadata": {},
   "source": [
    "Um anel possui cumprimento:"
   ]
  },
  {
   "cell_type": "code",
   "execution_count": null,
   "metadata": {},
   "outputs": [],
   "source": [
    "anel.length"
   ]
  },
  {
   "cell_type": "markdown",
   "metadata": {},
   "source": [
    "Um anel não possui área:"
   ]
  },
  {
   "cell_type": "code",
   "execution_count": null,
   "metadata": {},
   "outputs": [],
   "source": [
    "anel.area"
   ]
  },
  {
   "cell_type": "markdown",
   "metadata": {},
   "source": [
    "A fronteira de um anel é o conjunto vazio:"
   ]
  },
  {
   "cell_type": "code",
   "execution_count": null,
   "metadata": {},
   "outputs": [],
   "source": [
    "anel.boundary"
   ]
  },
  {
   "cell_type": "markdown",
   "metadata": {},
   "source": [
    "### Polígonos"
   ]
  },
  {
   "cell_type": "markdown",
   "metadata": {},
   "source": [
    "Para criar objetos do tipo `Polygon` é preciso importar a classe `Polygon`:"
   ]
  },
  {
   "cell_type": "code",
   "execution_count": null,
   "metadata": {},
   "outputs": [],
   "source": [
    "from shapely.geometry import Polygon"
   ]
  },
  {
   "cell_type": "markdown",
   "metadata": {},
   "source": [
    "O construtor de um objeto `Polygon` aceita dois argumentos. O primeiro, obrigatório, é uma sequência de tuplas (x, y) ou (x, y, z) que representa o anel externo do polígono. O segundo, opcional, é uma sequência de anéis e representa os anéis internos do polígono:"
   ]
  },
  {
   "cell_type": "code",
   "execution_count": null,
   "metadata": {},
   "outputs": [],
   "source": [
    "anel_externo = [ (0, 0), (10, 0), (10, 10), (0, 10), (0, 0) ]\n",
    "anel_interno = [ (3, 3), (7, 3), (7, 7), (3, 7), (3, 3) ]\n",
    "\n",
    "poly = Polygon(anel_externo, [anel_interno])"
   ]
  },
  {
   "cell_type": "markdown",
   "metadata": {},
   "source": [
    "O anel externo pode ser acessado através do operador `exterior`:"
   ]
  },
  {
   "cell_type": "code",
   "execution_count": null,
   "metadata": {},
   "outputs": [],
   "source": [
    "poly.exterior"
   ]
  },
  {
   "cell_type": "markdown",
   "metadata": {},
   "source": [
    "Os anéis internos podem ser acessados através da propriedade `interiors`:"
   ]
  },
  {
   "cell_type": "code",
   "execution_count": null,
   "metadata": {},
   "outputs": [],
   "source": [
    "poly.interiors"
   ]
  },
  {
   "cell_type": "code",
   "execution_count": null,
   "metadata": {},
   "outputs": [],
   "source": [
    "len(poly.interiors)"
   ]
  },
  {
   "cell_type": "code",
   "execution_count": null,
   "metadata": {},
   "outputs": [],
   "source": [
    "poly.interiors[0]"
   ]
  },
  {
   "cell_type": "code",
   "execution_count": null,
   "metadata": {},
   "outputs": [],
   "source": [
    "poly.interiors[0].xy"
   ]
  },
  {
   "cell_type": "markdown",
   "metadata": {},
   "source": [
    "Em um jupyter notebook a expresão abaixo apresenta um figura representando o polígono:"
   ]
  },
  {
   "cell_type": "code",
   "execution_count": null,
   "metadata": {},
   "outputs": [],
   "source": [
    "poly"
   ]
  },
  {
   "cell_type": "markdown",
   "metadata": {},
   "source": [
    "Um polígono possui cumprimento:"
   ]
  },
  {
   "cell_type": "code",
   "execution_count": null,
   "metadata": {},
   "outputs": [],
   "source": [
    "poly.length"
   ]
  },
  {
   "cell_type": "markdown",
   "metadata": {},
   "source": [
    "Um polígono possui área:"
   ]
  },
  {
   "cell_type": "code",
   "execution_count": null,
   "metadata": {},
   "outputs": [],
   "source": [
    "poly.area"
   ]
  },
  {
   "cell_type": "markdown",
   "metadata": {},
   "source": [
    "A fronteira de um polígono é formada pelos anéis desse polígono, objetos $1$-dimensional:"
   ]
  },
  {
   "cell_type": "code",
   "execution_count": null,
   "metadata": {},
   "outputs": [],
   "source": [
    "poly.boundary"
   ]
  },
  {
   "cell_type": "markdown",
   "metadata": {},
   "source": [
    "### MultiPoint"
   ]
  },
  {
   "cell_type": "markdown",
   "metadata": {},
   "source": [
    "Para criar objetos que representam coleções homogeneas de pontos é preciso importar a classe `MultiPoint`:"
   ]
  },
  {
   "cell_type": "code",
   "execution_count": null,
   "metadata": {},
   "outputs": [],
   "source": [
    "from shapely.geometry import MultiPoint"
   ]
  },
  {
   "cell_type": "markdown",
   "metadata": {},
   "source": [
    "O construtor de um `MultiPoint` recebe como argumento uma sequência de valores `(x, y)` ou `(x, y, z)`:"
   ]
  },
  {
   "cell_type": "code",
   "execution_count": null,
   "metadata": {},
   "outputs": [],
   "source": [
    "mpt = MultiPoint( [ (0, 0), (5, 5), (10, 0), (10, 10), (0, 10) ] )"
   ]
  },
  {
   "cell_type": "markdown",
   "metadata": {},
   "source": [
    "Em um jupyter notebook a expresão abaixo apresenta um figura representando a coleção de pontos:"
   ]
  },
  {
   "cell_type": "code",
   "execution_count": null,
   "metadata": {},
   "outputs": [],
   "source": [
    "mpt"
   ]
  },
  {
   "cell_type": "markdown",
   "metadata": {},
   "source": [
    "Os elementos das coleção podem ser acessados através da propriedade `geoms`:"
   ]
  },
  {
   "cell_type": "code",
   "execution_count": null,
   "metadata": {},
   "outputs": [],
   "source": [
    "for pt in mpt.geoms:\n",
    "    print(pt.x, pt.y)"
   ]
  },
  {
   "cell_type": "markdown",
   "metadata": {},
   "source": [
    "Uma coleção de pontos não possui cumprimento:"
   ]
  },
  {
   "cell_type": "code",
   "execution_count": null,
   "metadata": {},
   "outputs": [],
   "source": [
    "mpt.length"
   ]
  },
  {
   "cell_type": "markdown",
   "metadata": {},
   "source": [
    "Uma coleção de pontos não possui area:"
   ]
  },
  {
   "cell_type": "code",
   "execution_count": null,
   "metadata": {},
   "outputs": [],
   "source": [
    "mpt.area"
   ]
  },
  {
   "cell_type": "markdown",
   "metadata": {},
   "source": [
    "A fronteira de uma coleção de pontos é o conjunto vazio:"
   ]
  },
  {
   "cell_type": "code",
   "execution_count": null,
   "metadata": {},
   "outputs": [],
   "source": [
    "mpt.boundary"
   ]
  },
  {
   "cell_type": "markdown",
   "metadata": {},
   "source": [
    "### MultiLineString"
   ]
  },
  {
   "cell_type": "markdown",
   "metadata": {},
   "source": [
    "Para criar objetos que representam coleções homogeneas de linhas é preciso importar a classe `MultiLineString`:"
   ]
  },
  {
   "cell_type": "code",
   "execution_count": null,
   "metadata": {},
   "outputs": [],
   "source": [
    "from shapely.geometry import MultiLineString"
   ]
  },
  {
   "cell_type": "markdown",
   "metadata": {},
   "source": [
    "O construtor de uma `MultiLineString` recebe como argumento uma sequência de linhas:"
   ]
  },
  {
   "cell_type": "code",
   "execution_count": null,
   "metadata": {},
   "outputs": [],
   "source": [
    "mline = MultiLineString( [ [ (0, 0), (8, 2), (13, 9) ],\n",
    "                           [ (21, 11), (30, -1) ] ])"
   ]
  },
  {
   "cell_type": "markdown",
   "metadata": {},
   "source": [
    "Em um jupyter notebook a expresão abaixo apresenta um figura representando a coleção de linhas:"
   ]
  },
  {
   "cell_type": "code",
   "execution_count": null,
   "metadata": {},
   "outputs": [],
   "source": [
    "mline"
   ]
  },
  {
   "cell_type": "markdown",
   "metadata": {},
   "source": [
    "Uma coleção de linhas possui cumprimento:"
   ]
  },
  {
   "cell_type": "code",
   "execution_count": null,
   "metadata": {},
   "outputs": [],
   "source": [
    "mline.length"
   ]
  },
  {
   "cell_type": "markdown",
   "metadata": {},
   "source": [
    "Uma coleção de linhas não possui area:"
   ]
  },
  {
   "cell_type": "code",
   "execution_count": null,
   "metadata": {},
   "outputs": [],
   "source": [
    "mline.area"
   ]
  },
  {
   "cell_type": "markdown",
   "metadata": {},
   "source": [
    "A fronteira de uma coleção de linhas abertas é o conjunto de pontos inicial e final de cada linha, ou seja, objetos $0$-dimensional:"
   ]
  },
  {
   "cell_type": "code",
   "execution_count": null,
   "metadata": {},
   "outputs": [],
   "source": [
    "mline.boundary"
   ]
  },
  {
   "cell_type": "markdown",
   "metadata": {},
   "source": [
    "Os elementos das coleção podem ser acessados através da propriedade geoms:"
   ]
  },
  {
   "cell_type": "code",
   "execution_count": null,
   "metadata": {},
   "outputs": [],
   "source": [
    "for line in mline.geoms:\n",
    "    print(line)"
   ]
  },
  {
   "cell_type": "markdown",
   "metadata": {},
   "source": [
    "### MultiPolygon"
   ]
  },
  {
   "cell_type": "markdown",
   "metadata": {},
   "source": [
    "Para criar objetos que representam coleções homogeneas de polígonos é preciso importar a classe `MultiPolygon`:"
   ]
  },
  {
   "cell_type": "code",
   "execution_count": null,
   "metadata": {},
   "outputs": [],
   "source": [
    "from shapely.geometry import MultiPolygon"
   ]
  },
  {
   "cell_type": "markdown",
   "metadata": {},
   "source": [
    "O construtor de um `MultiPolygon` recebe como argumento uma sequência de polígonos:"
   ]
  },
  {
   "cell_type": "code",
   "execution_count": null,
   "metadata": {},
   "outputs": [],
   "source": [
    "mpoly = MultiPolygon(\n",
    "         [\n",
    "           [\n",
    "               [ (0, 0), (16, 0), (16, 10), (0, 10), (0, 0) ],\n",
    "               [\n",
    "                   [ (3, 1), (7, 1), (5, 7), (3, 1) ],\n",
    "                   [ (8, 1), (12, 1), (10, 9), (8, 1) ] \n",
    "               ]\n",
    "           ],\n",
    "           [\n",
    "               [ (20, 0), (25, 0), (22, 10), (20, 0) ],\n",
    "               []\n",
    "           ]\n",
    "         ] )    "
   ]
  },
  {
   "cell_type": "markdown",
   "metadata": {},
   "source": [
    "Em um jupyter notebook a expresão abaixo apresenta um figura representando a coleção de polígonos:"
   ]
  },
  {
   "cell_type": "code",
   "execution_count": null,
   "metadata": {},
   "outputs": [],
   "source": [
    "mpoly"
   ]
  },
  {
   "cell_type": "markdown",
   "metadata": {},
   "source": [
    "O mesmo polígono acima pode ser construído de forma mais clara criando os polígonos intermediários e depois criando a coleção:"
   ]
  },
  {
   "cell_type": "code",
   "execution_count": null,
   "metadata": {},
   "outputs": [],
   "source": [
    "# Definição do primeiro polígono\n",
    "shell_1 = LinearRing( [ (0, 0), (16, 0), (16, 10), (0, 10), (0, 0) ] )\n",
    "\n",
    "hole_11 = LinearRing( [ (3, 1), (7, 1), (5, 7), (3, 1) ] )\n",
    "hole_12 = LinearRing( [ (8, 1), (12, 1), (10, 9), (8, 1) ] )\n",
    "\n",
    "poly_1 = Polygon( shell_1, [ hole_11, hole_12 ] )\n",
    "\n",
    "\n",
    "# Definição do segundo polígono\n",
    "shell_2 = LinearRing( [ (20, 0), (25, 0), (22, 10), (20, 0) ] )\n",
    "\n",
    "poly_2 = Polygon(shell_2)\n",
    "\n",
    "\n",
    "mpoly = MultiPolygon( [ poly_1, poly_2 ] )"
   ]
  },
  {
   "cell_type": "code",
   "execution_count": null,
   "metadata": {},
   "outputs": [],
   "source": [
    "mpoly"
   ]
  },
  {
   "cell_type": "markdown",
   "metadata": {},
   "source": [
    "Uma coleção de polígonos possui cumprimento:"
   ]
  },
  {
   "cell_type": "code",
   "execution_count": null,
   "metadata": {},
   "outputs": [],
   "source": [
    "mpoly.length"
   ]
  },
  {
   "cell_type": "markdown",
   "metadata": {},
   "source": [
    "Uma coleção de polígonos possui area:"
   ]
  },
  {
   "cell_type": "code",
   "execution_count": null,
   "metadata": {},
   "outputs": [],
   "source": [
    "mpoly.area"
   ]
  },
  {
   "cell_type": "markdown",
   "metadata": {},
   "source": [
    "A fronteira de uma coleção de polígonos é formada pelos anéis desses polígonos, objetos $1$-dimensional:"
   ]
  },
  {
   "cell_type": "code",
   "execution_count": null,
   "metadata": {},
   "outputs": [],
   "source": [
    "mpoly.boundary"
   ]
  },
  {
   "cell_type": "markdown",
   "metadata": {},
   "source": [
    "## 4.3. Relacionamentos Espaciais\n",
    "<hr style=\"border:0.25px solid #0077b9;\">"
   ]
  },
  {
   "cell_type": "markdown",
   "metadata": {},
   "source": [
    "Qual o relacionamento espacial entre o ponto de coordenadas `(2, 3)` e a linha formada pelas coordenadas `(1 1, 0 3, 4 3)`?"
   ]
  },
  {
   "cell_type": "code",
   "execution_count": null,
   "metadata": {},
   "outputs": [],
   "source": [
    "pt = Point(2, 3)"
   ]
  },
  {
   "cell_type": "code",
   "execution_count": null,
   "metadata": {},
   "outputs": [],
   "source": [
    "line = LineString( [ (1, 1), (0, 3), (4, 3) ] )"
   ]
  },
  {
   "cell_type": "markdown",
   "metadata": {},
   "source": [
    "O operador `relate` pode ser utilizado para determinar a matriz de intersecções discutida na [seção 1.2.1](#1.2.1.-Matriz-de-9-intersecções-Estendida-Dimensionalmente):"
   ]
  },
  {
   "cell_type": "code",
   "execution_count": null,
   "metadata": {},
   "outputs": [],
   "source": [
    "pt.relate(line)"
   ]
  },
  {
   "cell_type": "markdown",
   "metadata": {},
   "source": [
    "Podemos também usar esse operador tomando a linha como o objeto da operação e o ponto como argumento:"
   ]
  },
  {
   "cell_type": "code",
   "execution_count": null,
   "metadata": {},
   "outputs": [],
   "source": [
    "line.relate(pt)"
   ]
  },
  {
   "cell_type": "markdown",
   "metadata": {},
   "source": [
    "A linha contém o ponto?"
   ]
  },
  {
   "cell_type": "code",
   "execution_count": null,
   "metadata": {},
   "outputs": [],
   "source": [
    "line.contains(pt)"
   ]
  },
  {
   "cell_type": "markdown",
   "metadata": {},
   "source": [
    "A linha toca o ponto?"
   ]
  },
  {
   "cell_type": "code",
   "execution_count": null,
   "metadata": {},
   "outputs": [],
   "source": [
    "line.touches(pt)"
   ]
  },
  {
   "cell_type": "markdown",
   "metadata": {},
   "source": [
    "A linha cruza o ponto?"
   ]
  },
  {
   "cell_type": "code",
   "execution_count": null,
   "metadata": {},
   "outputs": [],
   "source": [
    "line.crosses(pt)"
   ]
  },
  {
   "cell_type": "markdown",
   "metadata": {},
   "source": [
    "A linha possui alguma interação espacial com o ponto?"
   ]
  },
  {
   "cell_type": "code",
   "execution_count": null,
   "metadata": {},
   "outputs": [],
   "source": [
    "line.intersects(pt)"
   ]
  },
  {
   "cell_type": "markdown",
   "metadata": {},
   "source": [
    "A linha definida anteriormente possui qual relacionamento com o polígono de coordenadas `(1 2, 1 4, 3 4, 3 2, 1 2)`?"
   ]
  },
  {
   "cell_type": "code",
   "execution_count": null,
   "metadata": {},
   "outputs": [],
   "source": [
    "poly = Polygon( [(1, 2), (1, 4), (3, 4), (3, 2), (1, 2)] )"
   ]
  },
  {
   "cell_type": "code",
   "execution_count": null,
   "metadata": {},
   "outputs": [],
   "source": [
    "line.relate(poly)"
   ]
  },
  {
   "cell_type": "code",
   "execution_count": null,
   "metadata": {},
   "outputs": [],
   "source": [
    "line.intersects(poly)"
   ]
  },
  {
   "cell_type": "code",
   "execution_count": null,
   "metadata": {},
   "outputs": [],
   "source": [
    "line.crosses(poly)"
   ]
  },
  {
   "cell_type": "markdown",
   "metadata": {},
   "source": [
    "A linha `(2 1, 2 2, 3 1)` toca o polígono anterior?"
   ]
  },
  {
   "cell_type": "code",
   "execution_count": null,
   "metadata": {},
   "outputs": [],
   "source": [
    "l2 = LineString( [ (2, 1), (2, 2), (3, 1) ] )\n",
    "\n",
    "poly.touches(l2)"
   ]
  },
  {
   "cell_type": "markdown",
   "metadata": {},
   "source": [
    "## 4.4. Operações de Conjunto\n",
    "<hr style=\"border:0.25px solid #0077b9;\">"
   ]
  },
  {
   "cell_type": "code",
   "execution_count": null,
   "metadata": {},
   "outputs": [],
   "source": [
    "p1 = Polygon( [ (1, 2), (1, 4), (3, 4), (3, 2), (1, 2) ] )\n",
    "\n",
    "p2 = Polygon( [ (2, 1), (2, 3), (4, 3), (4, 1), (2, 1) ] )\n",
    "\n",
    "g = p1.intersection(p2)\n",
    "\n",
    "g.wkt"
   ]
  },
  {
   "cell_type": "code",
   "execution_count": null,
   "metadata": {},
   "outputs": [],
   "source": [
    "g = p1.union(p2)\n",
    "\n",
    "g.wkt"
   ]
  },
  {
   "cell_type": "code",
   "execution_count": null,
   "metadata": {},
   "outputs": [],
   "source": [
    "g = p1.difference(p2)\n",
    "\n",
    "g.wkt"
   ]
  },
  {
   "cell_type": "code",
   "execution_count": null,
   "metadata": {},
   "outputs": [],
   "source": [
    "g = p1.symmetric_difference(p2)\n",
    "\n",
    "g.wkt"
   ]
  },
  {
   "cell_type": "markdown",
   "metadata": {},
   "source": [
    "## 4.4 Formatos\n",
    "<hr style=\"border:0.25px solid #0077b9;\">"
   ]
  },
  {
   "cell_type": "markdown",
   "metadata": {},
   "source": [
    "### OGC WKT (Well-Known Text)"
   ]
  },
  {
   "cell_type": "code",
   "execution_count": null,
   "metadata": {},
   "outputs": [],
   "source": [
    "line.wkt"
   ]
  },
  {
   "cell_type": "code",
   "execution_count": null,
   "metadata": {},
   "outputs": [],
   "source": [
    "pt.wkt"
   ]
  },
  {
   "cell_type": "code",
   "execution_count": null,
   "metadata": {},
   "outputs": [],
   "source": [
    "poly.wkt"
   ]
  },
  {
   "cell_type": "code",
   "execution_count": null,
   "metadata": {},
   "outputs": [],
   "source": [
    "g.wkt"
   ]
  },
  {
   "cell_type": "markdown",
   "metadata": {},
   "source": [
    "# Considerações Finais\n",
    "<hr style=\"border:1px solid #0077b9;\">"
   ]
  },
  {
   "cell_type": "markdown",
   "metadata": {},
   "source": [
    "A versão 2.0 da GDAL introduziu novos tipos geométricos baseados em geometrias não-lineares ou curvas: *CircularString*, *CompoundCurve* e *CurvePolygon*. Esses tipos geométricos encontram-se definidos numa especificação ISO chamada *ISO/IEC 13249-3:2016 Information technology - Database languages - SQL multimedia and application packages - Part 3: Spatial* (ISO, 2016). Além disso, a OGR inclui os tipos *MultiCurve* e *MultiSurface*.\n",
    "\n",
    "Para uma definição formal dos conceitos de interior, fronteira e exterior, consulte Egenhofer e Sharma (1993)."
   ]
  },
  {
   "cell_type": "markdown",
   "metadata": {},
   "source": [
    "# Referências Bibliográficas\n",
    "<hr style=\"border:1px solid #0077b9;\">"
   ]
  },
  {
   "cell_type": "markdown",
   "metadata": {},
   "source": [
    "- Clementini, E.; Di Felice, P.; van Oosterom, P. **A small set of formal topological relationships suitable for end-user interaction**. In: Abel D., Chin Ooi B. (eds), Advances in Spatial Databases, SSD 1993, Singapore. Lecture Notes in Computer Science, vol 692, pp. 277-295, June 1993. Springer, Berlin, Heidelberg.<br><br>\n",
    "\n",
    "- Egenhofer, M.; Sharma, J. **Topological Relations Between Regions in $R^2$ and $Z^2$**. In: Abel D., Chin Ooi B. (eds), Advances in Spatial Databases, SSD 1993, Singapore. Lecture Notes in Computer Science, vol 692, pp. 316-336, June 1993. Springer, Berlin, Heidelberg.<br><br>\n",
    "\n",
    "- Herring, J. R. (Org.). **[OpenGIS Implementation Standard for Geographic Information - Simple Feature Access - Part 1: Common Architecture](http://www.opengeospatial.org/standards/sfa)**. OGC, 2011. Acesso em: 14 de maio de 2018.<br><br>\n",
    "\n",
    "- ISO. **[ISO/IEC 13249-3:2016 Information technology - Database languages - SQL multimedia and application packages - Part 3: Spatial](https://www.iso.org/standard/60343.html)**. 5th edition. 2016. 1328 pp. Acesso em: 19 de maio de 2018.<br><br>\n",
    "\n",
    "- Knut Stolze. **[SQL/MM Spatial: The Standard to Manage Spatial Data in Relational Database Systems](http://doesen0.informatik.uni-leipzig.de/proceedings/paper/68.pdf)**. In: Gerhard Weikum, Harald Schöning, Erhard Rahm (eds) [BTW 2003](http://doesen0.informatik.uni-leipzig.de/proceedings/proceedings.en.shtml): Database Systems for Business, Technology and Web. Acesso em: 19 de maio de 2018.<br><br>\n",
    "\n",
    "- [Repositório no GitHub da Biblioteca Shapely](https://github.com/Toblerity/Shapely). Acesso: 14 de Maio de 2018.<br><br>\n",
    "\n",
    "- [The Shapely User Manual](https://shapely.readthedocs.io/en/latest/manual.html). Acesso em: 14 de maio de 2018.<br><br>"
   ]
  }
 ],
 "metadata": {
  "kernelspec": {
   "display_name": "Python (geospatial)",
   "language": "python",
   "name": "geospatial"
  },
  "language_info": {
   "codemirror_mode": {
    "name": "ipython",
    "version": 3
   },
   "file_extension": ".py",
   "mimetype": "text/x-python",
   "name": "python",
   "nbconvert_exporter": "python",
   "pygments_lexer": "ipython3",
   "version": "3.6.5"
  },
  "toc": {
   "base_numbering": 1,
   "nav_menu": {},
   "number_sections": false,
   "sideBar": true,
   "skip_h1_title": false,
   "title_cell": "Table of Contents",
   "title_sidebar": "Contents",
   "toc_cell": false,
   "toc_position": {},
   "toc_section_display": true,
   "toc_window_display": false
  }
 },
 "nbformat": 4,
 "nbformat_minor": 2
}
